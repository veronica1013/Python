{
  "nbformat": 4,
  "nbformat_minor": 0,
  "metadata": {
    "colab": {
      "name": "classes_modifying_attributes",
      "provenance": [],
      "collapsed_sections": [],
      "authorship_tag": "ABX9TyM83enLPsHlJv3spU4yn8yz",
      "include_colab_link": true
    },
    "kernelspec": {
      "name": "python3",
      "display_name": "Python 3"
    },
    "language_info": {
      "name": "python"
    }
  },
  "cells": [
    {
      "cell_type": "markdown",
      "metadata": {
        "id": "view-in-github",
        "colab_type": "text"
      },
      "source": [
        "<a href=\"https://colab.research.google.com/github/veronica1013/Python/blob/main/classes_modifying_attributes.ipynb\" target=\"_parent\"><img src=\"https://colab.research.google.com/assets/colab-badge.svg\" alt=\"Open In Colab\"/></a>"
      ]
    },
    {
      "cell_type": "markdown",
      "metadata": {
        "id": "MJuaOX-BV4Gl"
      },
      "source": [
        "### Modifying attribute values\n",
        "#### a. Modifying an attribute value directly"
      ]
    },
    {
      "cell_type": "code",
      "metadata": {
        "id": "vhjH9o4hVplG",
        "colab": {
          "base_uri": "https://localhost:8080/"
        },
        "outputId": "bb941232-7be6-455c-c7f4-09f6e96d721e"
      },
      "source": [
        "# Modifying an attribute value directly\n",
        "\n",
        "# Create a Car class\n",
        "# Then set a default value for an attribute\n",
        "# Modify the attributes of an instance directly\n",
        "# and finally write methods that update attributes in specific ways\n",
        "\n",
        "\n",
        "class Car:\n",
        "    \"\"\"A simple attempt to represent a car.\"\"\"\n",
        "\n",
        "    def __init__(self, make, model, year):\n",
        "        \"\"\"Initialize attributes to describe a car.\"\"\"\n",
        "        self.make = make\n",
        "        self.model = model\n",
        "        self.year = year\n",
        "        self.odometer_reading = 0\n",
        "\n",
        "    def get_descriptive_name(self):\n",
        "        \"\"\"Return a neatly formatted descriptive name.\"\"\"\n",
        "        long_name = f\"{self.year} {self.make} {self.model}\"\n",
        "        return long_name.title()\n",
        "\n",
        "    def read_odometer(self):\n",
        "        \"\"\"Print a statement showing the car's mileage.\"\"\"\n",
        "        print(f\"This car has {self.odometer_reading} miles on it.\")\n",
        "\n",
        "my_new_car = Car('audi', 'a4', '2019')\n",
        "print(my_new_car.get_descriptive_name())\n",
        "\n",
        "# Modifying an attribute value directly\n",
        "my_new_car.odometer_reading = 23 \n",
        "my_new_car.read_odometer()\n",
        "\n",
        "# The default odometer reading of 0 is not printed but \n",
        "# the new reading of 23 is printed instead\n"
      ],
      "execution_count": null,
      "outputs": [
        {
          "output_type": "stream",
          "text": [
            "2019 Audi A4\n",
            "This car has 23 miles on it.\n"
          ],
          "name": "stdout"
        }
      ]
    },
    {
      "cell_type": "markdown",
      "metadata": {
        "id": "Hq35tY2-WFfB"
      },
      "source": [
        "#### b. Modifying an Attribute's Value through a Method"
      ]
    },
    {
      "cell_type": "code",
      "metadata": {
        "id": "4586pEVkWOQu",
        "colab": {
          "base_uri": "https://localhost:8080/"
        },
        "outputId": "61db39d4-c651-4a30-ebf0-702d09e21504"
      },
      "source": [
        "class Car:\n",
        "    \"\"\"A simple attempt to represent a car.\"\"\"\n",
        "    \n",
        "    def __init__(self, make, model, year):\n",
        "        \"\"\"Initialize attributes to describe a car.\"\"\"\n",
        "        self.make = make\n",
        "        self.model = model\n",
        "        self.year = year\n",
        "        self.odometer_reading = 0\n",
        "\n",
        "    def get_descriptive_name(self):\n",
        "        \"\"\"Return a neatly formatted descriptive name.\"\"\"\n",
        "        long_name = f\"{self.year} {self.make} {self.model}\"\n",
        "        return long_name.title()\n",
        "\n",
        "    def read_odometer(self):\n",
        "        \"\"\"Print a statement showing the car's mileage.\"\"\"\n",
        "        print(f\"This car has {self.odometer_reading} miles on it.\")\n",
        "\n",
        "    # Modify an attributes value through a method\n",
        "    def update_odometer(self, mileage): \n",
        "        \"\"\"Set the odometer reading to the given value.\"\"\"\n",
        "        self.odometer_reading = mileage\n",
        "\n",
        "my_new_car = Car('audi', 'a4', '2019')\n",
        "print(my_new_car.get_descriptive_name())\n",
        "\n",
        "# my_new_car.odometer_reading = 23 (Modifying an attribute value directly)\n",
        "my_new_car.update_odometer(23)\n",
        "my_new_car.read_odometer()"
      ],
      "execution_count": null,
      "outputs": [
        {
          "output_type": "stream",
          "text": [
            "2019 Audi A4\n",
            "This car has 23 miles on it.\n"
          ],
          "name": "stdout"
        }
      ]
    },
    {
      "cell_type": "markdown",
      "metadata": {
        "id": "KdEaHBFqWWqp"
      },
      "source": [
        "##### We can extend the method update_odometer() to do additional work every time the odometer reading is modified. Let’s add a little logic to make sure no one tries to roll back the odometer reading:"
      ]
    },
    {
      "cell_type": "code",
      "metadata": {
        "id": "By1mxSBjWYr5",
        "colab": {
          "base_uri": "https://localhost:8080/"
        },
        "outputId": "d5c67b11-7155-424a-c6ca-b2edc11eaf6e"
      },
      "source": [
        "class Car:\n",
        "    \"\"\"A simple attempt to represent a car.\"\"\"\n",
        "    \n",
        "    def __init__(self, make, model, year):\n",
        "        \"\"\"Initialize attributes to describe a car.\"\"\"\n",
        "        self.make = make\n",
        "        self.model = model\n",
        "        self.year = year\n",
        "        self.odometer_reading = 0\n",
        "\n",
        "    def get_descriptive_name(self):\n",
        "        \"\"\"Return a neatly formatted descriptive name.\"\"\"\n",
        "        long_name = f\"{self.year} {self.make} {self.model}\"\n",
        "        return long_name.title()\n",
        "\n",
        "    def read_odometer(self):\n",
        "        \"\"\"Print a statement showing the car's mileage.\"\"\"\n",
        "        print(f\"This car has {self.odometer_reading} miles on it.\")\n",
        "\n",
        "    # Add a little logic to make sure no one tries to roll back the odometer reading:\n",
        "    def update_odometer(self, mileage): \n",
        "        \"\"\"\n",
        "        Set the odometer reading to the given value.\n",
        "        Reject the change if it attempts to roll the odometer back.\n",
        "        \"\"\"\n",
        "        if mileage >= self.odometer_reading:\n",
        "            self.odometer_reading = mileage\n",
        "        else:\n",
        "            print(\"You can't roll back an odometer!\")\n",
        "\n",
        "my_new_car = Car('audi', 'a4', '2019')\n",
        "print(my_new_car.get_descriptive_name())\n",
        "\n",
        "# my_new_car.odometer_reading = 23 (Modifying an attribute value directly)\n",
        "my_new_car.update_odometer(23)\n",
        "my_new_car.read_odometer()"
      ],
      "execution_count": null,
      "outputs": [
        {
          "output_type": "stream",
          "text": [
            "2019 Audi A4\n",
            "This car has 23 miles on it.\n"
          ],
          "name": "stdout"
        }
      ]
    },
    {
      "cell_type": "markdown",
      "metadata": {
        "id": "b8GZf4GCWhie"
      },
      "source": [
        "##### From the above modifications, the update_odometer() checks that the new reading makes sense before modifying the attribute. If the new mileage, mileage, is greater than or equal to the existing mileage, self.odometer_reading, you can update the odometer reading to the new mileage. If the new mileage is less than the existing mileage, you’ll get a warning that you can’t roll back an odometer"
      ]
    },
    {
      "cell_type": "markdown",
      "metadata": {
        "id": "uAe9oYe_WpzR"
      },
      "source": [
        "#### c. Incrementing an Attribute’s Value Through a Method"
      ]
    },
    {
      "cell_type": "code",
      "metadata": {
        "id": "FR62XYENWl44",
        "colab": {
          "base_uri": "https://localhost:8080/"
        },
        "outputId": "f5cdb669-e634-4bfd-c06f-76244fc1e564"
      },
      "source": [
        "class Car:\n",
        "    \"\"\"A simple attempt to represent a car.\"\"\"\n",
        "    \n",
        "    def __init__(self, make, model, year):\n",
        "        \"\"\"Initialize attributes to describe a car.\"\"\"\n",
        "        self.make = make\n",
        "        self.model = model\n",
        "        self.year = year\n",
        "        self.odometer_reading = 0\n",
        "\n",
        "    def get_descriptive_name(self):\n",
        "        \"\"\"Return a neatly formatted descriptive name.\"\"\"\n",
        "        long_name = f\"{self.year} {self.make} {self.model}\"\n",
        "        return long_name.title()\n",
        "\n",
        "    def read_odometer(self):\n",
        "        \"\"\"Print a statement showing the car's mileage.\"\"\"\n",
        "        print(f\"This car has {self.odometer_reading} miles on it.\")\n",
        "\n",
        "    # Add a little logic to make sure no one tries to roll back the odometer reading:\n",
        "    def update_odometer(self, mileage): \n",
        "        \"\"\"\n",
        "        Set the odometer reading to the given value.\n",
        "        Reject the change if it attempts to roll the odometer back.\n",
        "        \"\"\"\n",
        "        if mileage >= self.odometer_reading:\n",
        "            self.odometer_reading = mileage\n",
        "        else:\n",
        "            print(\"You can't roll back an odometer!\")\n",
        "\n",
        "    # Increment Odometer Reading\n",
        "    def increment_odometer(self, miles):\n",
        "      \"\"\"Add the given amount to the Odometer Reading.\"\"\"\n",
        "      self.odometer_reading += miles\n",
        "\n",
        "my_used_car = Car('subaru', 'outback', '2015')\n",
        "print(my_used_car.get_descriptive_name())\n",
        "\n",
        "# my_new_car.odometer_reading = 23 (Modifying an attribute value directly)\n",
        "my_used_car.update_odometer(23_500)\n",
        "my_used_car.read_odometer()\n",
        "\n",
        "my_used_car.increment_odometer(100)\n",
        "my_used_car.read_odometer()"
      ],
      "execution_count": null,
      "outputs": [
        {
          "output_type": "stream",
          "text": [
            "2015 Subaru Outback\n",
            "This car has 23500 miles on it.\n",
            "This car has 23600 miles on it.\n"
          ],
          "name": "stdout"
        }
      ]
    },
    {
      "cell_type": "code",
      "metadata": {
        "id": "97NsOtezsl6f"
      },
      "source": [
        ""
      ],
      "execution_count": null,
      "outputs": []
    }
  ]
}