{
  "nbformat": 4,
  "nbformat_minor": 0,
  "metadata": {
    "colab": {
      "name": "python_basics_1.ipynb",
      "provenance": [],
      "collapsed_sections": [],
      "toc_visible": true,
      "authorship_tag": "ABX9TyP/XEHsd82qdV6qx1eufWnX",
      "include_colab_link": true
    },
    "kernelspec": {
      "display_name": "Python 3",
      "name": "python3"
    },
    "language_info": {
      "name": "python"
    }
  },
  "cells": [
    {
      "cell_type": "markdown",
      "metadata": {
        "id": "view-in-github",
        "colab_type": "text"
      },
      "source": [
        "<a href=\"https://colab.research.google.com/github/veronica1013/Python/blob/main/python_basics_1.ipynb\" target=\"_parent\"><img src=\"https://colab.research.google.com/assets/colab-badge.svg\" alt=\"Open In Colab\"/></a>"
      ]
    },
    {
      "cell_type": "markdown",
      "metadata": {
        "id": "c9bTVySMSnQd"
      },
      "source": [
        "## Introducing while loops"
      ]
    },
    {
      "cell_type": "markdown",
      "metadata": {
        "id": "LYOGY72NS1bx"
      },
      "source": [
        "### a. The while loops in action: Python repeats the loop as long as the condition current_number <= 5 is true."
      ]
    },
    {
      "cell_type": "code",
      "metadata": {
        "colab": {
          "base_uri": "https://localhost:8080/"
        },
        "id": "Qz3YYIKdStdK",
        "outputId": "7ea71d29-7afc-41c7-d694-26d0082b0052"
      },
      "source": [
        "current_number = 1\n",
        "while current_number <= 5:\n",
        " print(current_number)\n",
        " current_number += 1"
      ],
      "execution_count": null,
      "outputs": [
        {
          "output_type": "stream",
          "text": [
            "1\n",
            "2\n",
            "3\n",
            "4\n",
            "5\n"
          ],
          "name": "stdout"
        }
      ]
    },
    {
      "cell_type": "markdown",
      "metadata": {
        "id": "qIuiJR-xTn5b"
      },
      "source": [
        "### b. Letting the User Choose When to Quit:\n",
        "### Define a quit value and then keep the program running as long as the user has not entered the quit value:"
      ]
    },
    {
      "cell_type": "code",
      "metadata": {
        "colab": {
          "base_uri": "https://localhost:8080/"
        },
        "id": "UP6Y4LTEUCkV",
        "outputId": "0d4bf92a-baf8-416b-be15-7e62321d3efe"
      },
      "source": [
        "prompt = \"\\nTell me something, and I will repeat it back to you:\"\n",
        "prompt += \"\\nEnter 'quit' to end the program. \"\n",
        "\n",
        "message = \"\"\n",
        "while message != 'quit':\n",
        "  message = input(prompt)\n",
        "  print(message)\n",
        "\n",
        "#This program works well, except that it prints the word 'quit' as if it\n",
        "#were an actual message. A simple if test fixes this as shown below:"
      ],
      "execution_count": null,
      "outputs": [
        {
          "output_type": "stream",
          "text": [
            "\n",
            "Tell me something, and I will repeat it back to you:\n",
            "Enter 'quit' to end the program. Good Evening\n",
            "Good Evening\n",
            "\n",
            "Tell me something, and I will repeat it back to you:\n",
            "Enter 'quit' to end the program. What's your name\n",
            "What's your name\n",
            "\n",
            "Tell me something, and I will repeat it back to you:\n",
            "Enter 'quit' to end the program. Welcome to the new cohort\n",
            "Welcome to the new cohort\n",
            "\n",
            "Tell me something, and I will repeat it back to you:\n",
            "Enter 'quit' to end the program. quit\n",
            "quit\n"
          ],
          "name": "stdout"
        }
      ]
    },
    {
      "cell_type": "markdown",
      "metadata": {
        "id": "eQ5neMMaSFoF"
      },
      "source": [
        "### Using a while loop with lists and dictionaries"
      ]
    },
    {
      "cell_type": "code",
      "metadata": {
        "colab": {
          "base_uri": "https://localhost:8080/"
        },
        "id": "kzCjTZxXV0yJ",
        "outputId": "a5ef4e3e-5b23-4fee-bb97-8728cb0bccf1"
      },
      "source": [
        "prompt = \"\\nTell me something, and I will repeat it back to you:\"\n",
        "prompt += \"\\nEnter 'quit' to end the program. \"\n",
        "\n",
        "message = \"\"\n",
        "while message != 'quit':\n",
        "  message = input(prompt)\n",
        "\n",
        "  if message != 'quit': # The word 'quit' is removed. Only the message is printed\n",
        "    print(message)"
      ],
      "execution_count": null,
      "outputs": [
        {
          "output_type": "stream",
          "text": [
            "\n",
            "Tell me something, and I will repeat it back to you:\n",
            "Enter 'quit' to end the program. Welcome\n",
            "Welcome\n",
            "\n",
            "Tell me something, and I will repeat it back to you:\n",
            "Enter 'quit' to end the program. quit\n"
          ],
          "name": "stdout"
        }
      ]
    },
    {
      "cell_type": "markdown",
      "metadata": {
        "id": "49Z1w3HrbQ8P"
      },
      "source": [
        "## c. Using a Flag: This is used when there are many events that could stop the program\n",
        "#### For a program that should run only as long as many conditions are true, you can define one variable that determines whether or not the entire program is active. This variable, called a flag, acts as a signal to the program. \n",
        "#### We can write our programs so they run while the flag is set to True and stop running when any of several events sets the value of the flag to False. As a result, our overall while statement needs to check only one condition: whether or not the flag is currently True. \n",
        "#### Then, all our other tests (to see if an event has occurred that should set the flag to False) can be neatly organized in the rest of the program."
      ]
    },
    {
      "cell_type": "code",
      "metadata": {
        "colab": {
          "base_uri": "https://localhost:8080/"
        },
        "id": "16mp-tn0bQZu",
        "outputId": "17b7e6bf-8669-4031-806e-51e91434f1e5"
      },
      "source": [
        "# Let’s add a flag to the previous section. \n",
        "# This flag, which we’ll call active (though you can call it anything), \n",
        "# will monitor whether or not the program should continue running:\n",
        "\n",
        "prompt = \"\\nTell me something, and I will repeat it back to you:\"\n",
        "prompt += \"\\nEnter 'quit' to end the program. \"\n",
        "\n",
        "active = True\n",
        "while active:\n",
        "  message = input(prompt)\n",
        "\n",
        "  if message == 'quit':\n",
        "    active = False\n",
        "\n",
        "  else:\n",
        "    print(message)"
      ],
      "execution_count": null,
      "outputs": [
        {
          "output_type": "stream",
          "text": [
            "\n",
            "Tell me something, and I will repeat it back to you:\n",
            "Enter 'quit' to end the program. Hello\n",
            "Hello\n",
            "\n",
            "Tell me something, and I will repeat it back to you:\n",
            "Enter 'quit' to end the program. This is in reference to yesterday's meeting\n",
            "This is in reference to yesterday's meeting\n",
            "\n",
            "Tell me something, and I will repeat it back to you:\n",
            "Enter 'quit' to end the program. We have a project to work on\n",
            "We have a project to work on\n",
            "\n",
            "Tell me something, and I will repeat it back to you:\n",
            "Enter 'quit' to end the program. quit\n"
          ],
          "name": "stdout"
        }
      ]
    },
    {
      "cell_type": "markdown",
      "metadata": {
        "id": "x2gXSwyliif7"
      },
      "source": [
        "## d. Using break to Exit a Loop\n",
        "#### To exit a while loop immediately without running any remaining code in the loop, regardless of the results of any conditional test, use the break statement.\n",
        "#### The break statement directs the flow of your program; you can use it to control which lines of code are executed and which aren’t, so the program only executes code that you want it to, when you want it to.\n",
        "#### For example, you could use break to quit a for loop that’s working through a list or a dictionary."
      ]
    },
    {
      "cell_type": "code",
      "metadata": {
        "colab": {
          "base_uri": "https://localhost:8080/"
        },
        "id": "y7S16LWmiv8q",
        "outputId": "32f6f5ac-4fb2-472d-9a53-c56997adcf11"
      },
      "source": [
        "prompt = \"\\nPlease enter the name of a city you have visited:\"\n",
        "prompt += \"\\n(Enter 'quit' when you are finished.) \"\n",
        "\n",
        "while True:\n",
        "  city = input(prompt)\n",
        "\n",
        "  if city == 'quit':\n",
        "    break\n",
        "  else:\n",
        "    print(f\"I'd love to go to {city.title()}!\")"
      ],
      "execution_count": null,
      "outputs": [
        {
          "output_type": "stream",
          "text": [
            "\n",
            "Please enter the name of a city you have visited:\n",
            "(Enter 'quit' when you are finished.) California\n",
            "I'd love to go to California!\n",
            "\n",
            "Please enter the name of a city you have visited:\n",
            "(Enter 'quit' when you are finished.) Washington DC\n",
            "I'd love to go to Washington Dc!\n",
            "\n",
            "Please enter the name of a city you have visited:\n",
            "(Enter 'quit' when you are finished.) Hawaii\n",
            "I'd love to go to Hawaii!\n",
            "\n",
            "Please enter the name of a city you have visited:\n",
            "(Enter 'quit' when you are finished.) Los Angeles\n",
            "I'd love to go to Los Angeles!\n",
            "\n",
            "Please enter the name of a city you have visited:\n",
            "(Enter 'quit' when you are finished.) quit\n"
          ],
          "name": "stdout"
        }
      ]
    },
    {
      "cell_type": "markdown",
      "metadata": {
        "id": "eHdb9W7gnqbq"
      },
      "source": [
        "## e. Using continue in a Loop\n",
        "#### Rather than breaking out of a loop entirely without executing the rest of its code, you can use the continue statement to return to the beginning of the loop based on the result of a conditional test. For example, consider a loop that counts from 1 to 10 but prints only the odd numbers in that range:"
      ]
    },
    {
      "cell_type": "code",
      "metadata": {
        "colab": {
          "base_uri": "https://localhost:8080/"
        },
        "id": "V6qtKaYFnOOL",
        "outputId": "fe7150b7-cd07-4508-fd79-c36385fb8f51"
      },
      "source": [
        "current_number = 0\n",
        "while current_number < 10:\n",
        "  current_number += 1\n",
        "  \n",
        "  if current_number % 2 == 0:\n",
        "    continue\n",
        "\n",
        "  print(current_number)"
      ],
      "execution_count": null,
      "outputs": [
        {
          "output_type": "stream",
          "text": [
            "1\n",
            "3\n",
            "5\n",
            "7\n",
            "9\n"
          ],
          "name": "stdout"
        }
      ]
    },
    {
      "cell_type": "markdown",
      "metadata": {
        "id": "25tTYcq1pTvb"
      },
      "source": [
        "## f. Avoiding Infinite Loops\n",
        "#### Every while loop needs a way to stop running so it won’t continue to run forever. For example, this counting loop should count from 1 to 5:"
      ]
    },
    {
      "cell_type": "code",
      "metadata": {
        "colab": {
          "base_uri": "https://localhost:8080/"
        },
        "id": "Wz7KC1Sjpi7a",
        "outputId": "c6ac91ef-0cbc-4767-90ae-a9db2dbb9038"
      },
      "source": [
        "# If you accidentally omit the line x += 1 (as shown next), \n",
        "# the loop will run forever:\n",
        "x = 1\n",
        "while x <= 5:\n",
        "  print(x)\n",
        "  x += 1 "
      ],
      "execution_count": null,
      "outputs": [
        {
          "output_type": "stream",
          "text": [
            "1\n",
            "2\n",
            "3\n",
            "4\n",
            "5\n"
          ],
          "name": "stdout"
        }
      ]
    },
    {
      "cell_type": "markdown",
      "metadata": {
        "id": "Zeq4xVwUqSkg"
      },
      "source": [
        "## Using a while loop with lists and dictionaries\n",
        "##### So far, we’ve worked with only one piece of user information at a time. We received the user’s input and then printed the input or a response to it. The next time through the while loop, we’d receive another input value and respond to that. But to keep track of many users and pieces of information, we’ll need to use lists and dictionaries with our while loops.\n",
        "##### A for loop is effective for looping through a list, but you shouldn’t modify a list inside a for loop because Python will have trouble keeping track of the items in the list. To modify a list as you work through it, use a while loop. Using while loops with lists and dictionaries allows you to collect, store, and organize lots of input to examine and report on later. \n"
      ]
    },
    {
      "cell_type": "markdown",
      "metadata": {
        "id": "AYYSDvfUFcUb"
      },
      "source": [
        "### a. Moving Items from One List to Another\n",
        "#### Consider a list of newly registered but unverified users of a website. Verify the users then add them to a separate list of confirmed users. Start with users that need to be verified, and an empty list to hold confirmed users\n"
      ]
    },
    {
      "cell_type": "code",
      "metadata": {
        "colab": {
          "base_uri": "https://localhost:8080/"
        },
        "id": "kcFEogXFIQRP",
        "outputId": "446efdab-5c66-4a17-ab51-1c5c66dfbade"
      },
      "source": [
        "# Start with users that need to be verified, \n",
        "# and an empty list to hold confirmed users\n",
        "\n",
        "unconfirmed_users = ['alice', 'brian', 'candace']\n",
        "confirmed_users = []\n",
        "\n",
        "# Verify each users untill there are no more unconfirmed users\n",
        "# Move each user into the list of confirmend users\n",
        "\n",
        "while unconfirmed_users:\n",
        "  current_user = unconfirmed_users.pop()\n",
        "\n",
        "  print(f\"Verifying user: {current_user.title()}\")\n",
        "  confirmed_users.append(current_user)\n",
        "\n",
        "# Display all confirmed users\n",
        "print(\"\\nThe following users have been confirmed: \")\n",
        "for confirmed_user in confirmed_users:\n",
        "  print(confirmed_user.title())\n"
      ],
      "execution_count": null,
      "outputs": [
        {
          "output_type": "stream",
          "text": [
            "Verifying user: Candace\n",
            "Verifying user: Brian\n",
            "Verifying user: Alice\n",
            "\n",
            "The following users have been confirmed: \n",
            "Candace\n",
            "Brian\n",
            "Alice\n"
          ],
          "name": "stdout"
        }
      ]
    },
    {
      "cell_type": "markdown",
      "metadata": {
        "id": "yqt1hRcpKPtU"
      },
      "source": [
        "### b. Removing all instances of specific values from a list\n",
        "#### The function remove() is used to remove a specific value from a list. The remove() function worked because the value we were interested in appeared only once in the list. \n",
        "#### But what if you want to remove all instances of a value from a list? Say you have a list of pets with the value 'cat' repeated several times. To remove all instances of that value, you can run a while loop until 'cat' is no longer in the list, as shown here:"
      ]
    },
    {
      "cell_type": "code",
      "metadata": {
        "colab": {
          "base_uri": "https://localhost:8080/"
        },
        "id": "Q3vyD5EMJQuf",
        "outputId": "2cbc35bb-2705-4416-89f4-0fd68c147d0e"
      },
      "source": [
        "pets = ['dog', 'cat', 'dog', 'goldfish', 'cat', 'rabbit', 'cat']\n",
        "print(pets)\n",
        "\n",
        "while 'cat' in pets:\n",
        "  pets.remove('cat')\n",
        "\n",
        "print(pets)"
      ],
      "execution_count": null,
      "outputs": [
        {
          "output_type": "stream",
          "text": [
            "['dog', 'cat', 'dog', 'goldfish', 'cat', 'rabbit', 'cat']\n",
            "['dog', 'dog', 'goldfish', 'rabbit']\n"
          ],
          "name": "stdout"
        }
      ]
    },
    {
      "cell_type": "code",
      "metadata": {
        "colab": {
          "base_uri": "https://localhost:8080/"
        },
        "id": "ExOLFKN5Q9fR",
        "outputId": "4ec3bccf-0f08-47f1-9570-145b854fb572"
      },
      "source": [
        "# The if statement removes the cat one at a time\n",
        "pets = ['dog', 'cat', 'dog', 'goldfish', 'cat', 'rabbit', 'cat']\n",
        "print(pets)\n",
        "\n",
        "while 'cat' in pets:\n",
        "  pets.remove('cat')\n",
        "\n",
        "  if 'cat' == 1:\n",
        "    break\n",
        "  print(pets)"
      ],
      "execution_count": null,
      "outputs": [
        {
          "output_type": "stream",
          "text": [
            "['dog', 'cat', 'dog', 'goldfish', 'cat', 'rabbit', 'cat']\n",
            "['dog', 'dog', 'goldfish', 'cat', 'rabbit', 'cat']\n",
            "['dog', 'dog', 'goldfish', 'rabbit', 'cat']\n",
            "['dog', 'dog', 'goldfish', 'rabbit']\n"
          ],
          "name": "stdout"
        }
      ]
    },
    {
      "cell_type": "code",
      "metadata": {
        "colab": {
          "base_uri": "https://localhost:8080/"
        },
        "id": "sJ6hk-SgSL7l",
        "outputId": "b26175e0-40c9-4dfc-9877-812a6a64f21e"
      },
      "source": [
        "pets = ['dog', 'cat', 'dog', 'goldfish', 'cat', 'rabbit', 'cat']\n",
        "print(pets)\n",
        "\n",
        "while 'cat' in pets:\n",
        "  pets.remove('cat')\n",
        "\n",
        "  if 'cat' is 1: # Using is is same as ==\n",
        "    break\n",
        "  print(pets)"
      ],
      "execution_count": null,
      "outputs": [
        {
          "output_type": "stream",
          "text": [
            "['dog', 'cat', 'dog', 'goldfish', 'cat', 'rabbit', 'cat']\n",
            "['dog', 'dog', 'goldfish', 'cat', 'rabbit', 'cat']\n",
            "['dog', 'dog', 'goldfish', 'rabbit', 'cat']\n",
            "['dog', 'dog', 'goldfish', 'rabbit']\n"
          ],
          "name": "stdout"
        }
      ]
    },
    {
      "cell_type": "markdown",
      "metadata": {
        "id": "_cBXSm0-XEs9"
      },
      "source": [
        "### c. Filing a dictionary with user input\n",
        "#### You can prompt for as much input as you need in each pass through a while loop. Let’s make a polling program in which each pass through the loop prompts for the participant’s name and response\n",
        "#### We’ll store the data we gather in a dictionary, because we want to connect each response with a particular user:"
      ]
    },
    {
      "cell_type": "code",
      "metadata": {
        "colab": {
          "base_uri": "https://localhost:8080/"
        },
        "id": "9BiOef29UANZ",
        "outputId": "07c830be-ee54-43e4-b822-c7dabeb6754f"
      },
      "source": [
        "responses = {}\n",
        "\n",
        "# set a flag to indicate that the polling is active\n",
        "polling_active = True\n",
        "\n",
        "while polling_active:\n",
        "  # Prompt for a person's name and response\n",
        "  name = input(\"\\nWhat's your name? \")\n",
        "  response = input(\"Which mountain would you like to climb someday? \")\n",
        "  \n",
        "  # Store the response in a dictionary\n",
        "  responses[name] = response\n",
        "\n",
        "  # Find out if anyone else is going to take the poll\n",
        "  repeat = input(\"Would you like to let another person respond? (yes/ no)\")\n",
        "  if repeat == 'no': # A response with 'No' will not end the poll\n",
        "    polling_active = False\n",
        "\n",
        "  # Polling is complete. Show the results.\n",
        "  print(\"\\n--- Poll Results ---\")\n",
        "  for name, response in responses.items():\n",
        "    print(f\"{name} would like to climb {response}.\")"
      ],
      "execution_count": null,
      "outputs": [
        {
          "output_type": "stream",
          "text": [
            "\n",
            "What's your name? Jen\n",
            "Which mountain would you like to climb someday? Everest\n",
            "Would you like to let another person respond? (yes/ no)Yes\n",
            "\n",
            "--- Poll Results ---\n",
            "Jen would like to climb Everest.\n",
            "\n",
            "What's your name? Glen\n",
            "Which mountain would you like to climb someday? Kenya\n",
            "Would you like to let another person respond? (yes/ no)Yes\n",
            "\n",
            "--- Poll Results ---\n",
            "Jen would like to climb Everest.\n",
            "Glen would like to climb Kenya.\n",
            "\n",
            "What's your name? Jill\n",
            "Which mountain would you like to climb someday? Kilimanjaro\n",
            "Would you like to let another person respond? (yes/ no)no\n",
            "\n",
            "--- Poll Results ---\n",
            "Jen would like to climb Everest.\n",
            "Glen would like to climb Kenya.\n",
            "Jill would like to climb Kilimanjaro.\n"
          ],
          "name": "stdout"
        }
      ]
    },
    {
      "cell_type": "code",
      "metadata": {
        "colab": {
          "base_uri": "https://localhost:8080/"
        },
        "id": "PrnFOpVXsDsk",
        "outputId": "5281615b-fba7-495a-983f-27876ed2947c"
      },
      "source": [
        "print(responses)"
      ],
      "execution_count": null,
      "outputs": [
        {
          "output_type": "stream",
          "text": [
            "{'Jen': 'Everest', 'Glen': 'Kenya', 'Jill': 'Kilimanjaro'}\n"
          ],
          "name": "stdout"
        }
      ]
    },
    {
      "cell_type": "code",
      "metadata": {
        "colab": {
          "base_uri": "https://localhost:8080/"
        },
        "id": "rK48_gTkxnhk",
        "outputId": "c2155a94-3119-4c37-8eb1-53534f73c476"
      },
      "source": [
        "responses = {}\n",
        "key = ['poll_1', 'poll_2']\n",
        "results = {}\n",
        "\n",
        "# set a flag to indicate that the polling is active\n",
        "polling_active = True\n",
        "\n",
        "while polling_active:\n",
        "  # Prompt for a person's name and response\n",
        "  name = input(\"\\nWhat's your name? \")\n",
        "  response = input(\"Which mountain would you like to climb someday? \")\n",
        "  \n",
        "  # Store the response in a dictionary\n",
        "  responses[name] = response\n",
        "  \n",
        "  # Find out if anyone else is going to take the poll\n",
        "  repeat = input(\"Would you like to let another person respond? (yes/ no)\")\n",
        "  if repeat == 'no': # A response with 'No' will not end the poll\n",
        "    polling_active = False\n",
        "\n",
        "  # Polling is complete. Show the results.\n",
        "  print(\"\\n--- Poll Results ---\")\n",
        "  for name, response in responses.items():\n",
        "    print(f\"{name} would like to climb {response}.\")\n",
        "\n",
        "  \n",
        "for item in key:\n",
        "  results[item] = responses\n",
        "  print(item)\n",
        "\n",
        "\n",
        "for item, respenses in results.items():\n",
        "  print(results)"
      ],
      "execution_count": null,
      "outputs": [
        {
          "output_type": "stream",
          "text": [
            "\n",
            "What's your name? Gle\n",
            "Which mountain would you like to climb someday? Elbrus\n",
            "Would you like to let another person respond? (yes/ no)yes\n",
            "\n",
            "--- Poll Results ---\n",
            "Gle would like to climb Elbrus.\n",
            "\n",
            "What's your name? Mary\n",
            "Which mountain would you like to climb someday? Fuji\n",
            "Would you like to let another person respond? (yes/ no)yes\n",
            "\n",
            "--- Poll Results ---\n",
            "Gle would like to climb Elbrus.\n",
            "Mary would like to climb Fuji.\n",
            "\n",
            "What's your name? Ann\n",
            "Which mountain would you like to climb someday? Makalu\n",
            "Would you like to let another person respond? (yes/ no)no\n",
            "\n",
            "--- Poll Results ---\n",
            "Gle would like to climb Elbrus.\n",
            "Mary would like to climb Fuji.\n",
            "Ann would like to climb Makalu.\n",
            "poll_1\n",
            "poll_2\n",
            "{'poll_1': {'Gle': 'Elbrus', 'Mary': 'Fuji', 'Ann': 'Makalu'}, 'poll_2': {'Gle': 'Elbrus', 'Mary': 'Fuji', 'Ann': 'Makalu'}}\n",
            "{'poll_1': {'Gle': 'Elbrus', 'Mary': 'Fuji', 'Ann': 'Makalu'}, 'poll_2': {'Gle': 'Elbrus', 'Mary': 'Fuji', 'Ann': 'Makalu'}}\n"
          ],
          "name": "stdout"
        }
      ]
    },
    {
      "cell_type": "code",
      "metadata": {
        "colab": {
          "base_uri": "https://localhost:8080/"
        },
        "id": "da6QEInSWdhi",
        "outputId": "d014be9e-966b-48f2-a0c3-01e014b8e850"
      },
      "source": [
        "# Make a list of sandwich orders\n",
        "# Make an empty list of finished sandwiches\n",
        "sandwich_orders = ['cheese', 'periperi', 'tomato', 'mushroom']\n",
        "finished_sandwiches = []\n",
        "\n",
        "for order in sandwich_orders:\n",
        "  print(f\"I made your {order.title()} sandwich!\")\n",
        "\n",
        "while sandwich_orders:\n",
        "  order = sandwich_orders.pop()\n",
        "\n",
        "  finished_sandwiches.append(order)\n",
        "\n",
        "print(\"\\nThis is the list of finished sandwiches:\")\n",
        "for item in finished_sandwiches:\n",
        "  print(f\"\\t{item.title()}\")\n"
      ],
      "execution_count": null,
      "outputs": [
        {
          "output_type": "stream",
          "text": [
            "I made your Cheese sandwich!\n",
            "I made your Periperi sandwich!\n",
            "I made your Tomato sandwich!\n",
            "I made your Mushroom sandwich!\n",
            "\n",
            "This is the list of finished sandwiches:\n",
            "\tMushroom\n",
            "\tTomato\n",
            "\tPeriperi\n",
            "\tCheese\n"
          ],
          "name": "stdout"
        }
      ]
    },
    {
      "cell_type": "code",
      "metadata": {
        "colab": {
          "base_uri": "https://localhost:8080/"
        },
        "id": "EEg3mMXWA3jK",
        "outputId": "0c329fb9-3bf4-4451-8847-e25c46c322d6"
      },
      "source": [
        "# Make a list of sandwich orders, ensure cheese appear twice\n",
        "# Make an empty list of finished sandwiches\n",
        "# Remove all the cheese instances\n",
        "# Print the finished sandwiches without cheese \n",
        "\n",
        "sandwich_orders = ['cheese', 'periperi', 'tomato', 'mushroom', 'cheese']\n",
        "finished_sandwiches = []\n",
        "\n",
        "for order in sandwich_orders:\n",
        "  print(f\"I made your {order.title()} sandwich!\")\n",
        "\n",
        "while 'cheese' in sandwich_orders:\n",
        "  sandwich_orders.remove('cheese')\n",
        "\n",
        "print(f\"\\nCheese sandwich is out of order.\"\n",
        "  f\"This is the new list of available sandwiches:\")\n",
        "\n",
        "for a in sandwich_orders:\n",
        "  print(a.title())\n",
        "\n",
        "while sandwich_orders:\n",
        "  order = sandwich_orders.pop()\n",
        "\n",
        "  finished_sandwiches.append(order)\n",
        "\n",
        "print(\"\\nThis is the list of finished sandwiches:\")\n",
        "for item in finished_sandwiches:\n",
        "  print(f\"\\t{item.title()}\")"
      ],
      "execution_count": null,
      "outputs": [
        {
          "output_type": "stream",
          "text": [
            "I made your Cheese sandwich!\n",
            "I made your Periperi sandwich!\n",
            "I made your Tomato sandwich!\n",
            "I made your Mushroom sandwich!\n",
            "I made your Cheese sandwich!\n",
            "\n",
            "Cheese sandwich is out of order.This is the new list of available sandwiches:\n",
            "Periperi\n",
            "Tomato\n",
            "Mushroom\n",
            "\n",
            "This is the list of finished sandwiches:\n",
            "\tMushroom\n",
            "\tTomato\n",
            "\tPeriperi\n"
          ],
          "name": "stdout"
        }
      ]
    },
    {
      "cell_type": "markdown",
      "metadata": {
        "id": "HNqFpcgTI-gV"
      },
      "source": [
        "#### Write a program that polls users about their dream vacation. Write a prompt similar to 'If you could visit one place in the world, where would you go?' Include a block of code that prints the results of the poll."
      ]
    },
    {
      "cell_type": "code",
      "metadata": {
        "colab": {
          "base_uri": "https://localhost:8080/"
        },
        "id": "Udy_hRx6C8Na",
        "outputId": "6f7ae6ba-7f7c-41b7-e20d-d43e89de7a66"
      },
      "source": [
        "dream_vacation = {}\n",
        "\n",
        "# set a flag to indicate that the polling is active\n",
        "polling_active1 = True\n",
        "\n",
        "while polling_active1:\n",
        "\n",
        "  # Prompt for users name and place in the world they could visit\n",
        "  name = input(\"What's your name? \")\n",
        "  prompt = (f\"Hello {name}, if you would visit one place in the world, \")\n",
        "  prompt += (\"where would you go? \")\n",
        "  place = input(prompt)\n",
        "\n",
        "  # Store the reponse in a dictionary\n",
        "  dream_vacation[name] = place\n",
        "\n",
        "  # Find out if anyone else is going to take the poll\n",
        "  repeat = input(\"Would you like to let another person respond? (yes/ no)\")\n",
        "  if repeat == 'no':\n",
        "    polling_active1 = False\n",
        "\n",
        "  # Polling is complete. Show the results.\n",
        "  print(\"\\n--- Poll Results ---\")\n",
        "  for name, place in dream_vacation.items():\n",
        "    print(f\"{name.title()}'s dream vacation place is {place.title()}\")\n",
        "\n",
        "print(f\"\\ndream_vacation = {dream_vacation}\")\n",
        "  "
      ],
      "execution_count": null,
      "outputs": [
        {
          "output_type": "stream",
          "text": [
            "What's your name? Helly\n",
            "Hello Helly, if you would visit one place in the world, where would you go? Caribbean Island\n",
            "Would you like to let another person respond? (yes/ no)yes\n",
            "\n",
            "--- Poll Results ---\n",
            "Helly's dream vacation place is Caribbean Island\n",
            "What's your name? Achie\n",
            "Hello Achie, if you would visit one place in the world, where would you go? The Amazon Forest\n",
            "Would you like to let another person respond? (yes/ no)yes\n",
            "\n",
            "--- Poll Results ---\n",
            "Helly's dream vacation place is Caribbean Island\n",
            "Achie's dream vacation place is The Amazon Forest\n",
            "What's your name? Avvy\n",
            "Hello Avvy, if you would visit one place in the world, where would you go? Paris\n",
            "Would you like to let another person respond? (yes/ no)no\n",
            "\n",
            "--- Poll Results ---\n",
            "Helly's dream vacation place is Caribbean Island\n",
            "Achie's dream vacation place is The Amazon Forest\n",
            "Avvy's dream vacation place is Paris\n",
            "\n",
            "dream_vacation = {'Helly': 'Caribbean Island', 'Achie': 'The Amazon Forest', 'Avvy': 'Paris'}\n"
          ],
          "name": "stdout"
        }
      ]
    },
    {
      "cell_type": "markdown",
      "metadata": {
        "id": "tSmJNcKhWh_Z"
      },
      "source": [
        "## Functions:\n",
        "#### Functions allows one to break programs into small parts, each of which does one specific job. You can call a function as many times as you want, and you can store your functions in separate files. By using functions, one will be able to write more efficient code that’s easier to troubleshoot and maintain and that can be reused in many different programs."
      ]
    },
    {
      "cell_type": "markdown",
      "metadata": {
        "id": "-zLIa9a2ap4v"
      },
      "source": [
        "### a. Defining a functions"
      ]
    },
    {
      "cell_type": "code",
      "metadata": {
        "colab": {
          "base_uri": "https://localhost:8080/"
        },
        "id": "J7OQK7p4Pfsi",
        "outputId": "857399b1-43a9-46f8-ddad-15500cf11a27"
      },
      "source": [
        "# Create a function called 'greet_user()'\n",
        "# The docstring to read: Display a simple greeting (in triple quotes)\n",
        "# Print(\"Hello\") is the only actual code in the body of this function\n",
        "# Call the function by writing the name of the function\n",
        "\n",
        "def greet_user():\n",
        "  \"\"\"Display a simple greeting.\"\"\" # This ia a docstring. It describes what the function does.\n",
        "  print(\"Hello!\")\n",
        "\n",
        "greet_user()"
      ],
      "execution_count": null,
      "outputs": [
        {
          "output_type": "stream",
          "text": [
            "Hello!\n"
          ],
          "name": "stdout"
        }
      ]
    },
    {
      "cell_type": "markdown",
      "metadata": {
        "id": "XHxmHEAriOdN"
      },
      "source": [
        "### b. Passing information to a function"
      ]
    },
    {
      "cell_type": "code",
      "metadata": {
        "colab": {
          "base_uri": "https://localhost:8080/"
        },
        "id": "0D_ytACpiXbJ",
        "outputId": "ad60d2f3-6958-4b94-d507-ef711c8779c8"
      },
      "source": [
        "# Add a username to the function greet_user()\n",
        "# This will allow a value to be entered every time a function is called\n",
        "\n",
        "def greet_user(username):\n",
        "  \"\"\"Display a simple greeting.\"\"\"\n",
        "  print(f\"Hello, {username.title()}\")\n",
        "\n",
        "greet_user('jesse')\n",
        "greet_user('mic')\n"
      ],
      "execution_count": null,
      "outputs": [
        {
          "output_type": "stream",
          "text": [
            "Hello, Jesse\n",
            "Hello, Mic\n"
          ],
          "name": "stdout"
        }
      ]
    },
    {
      "cell_type": "markdown",
      "metadata": {
        "id": "r9It4FFXk_gC"
      },
      "source": [
        "### c. Arguments and Parameters:\n",
        "##### In the preceeding example, the variable username in the definition of greet_user() is an example of a parameter, a piece of information the function needs to do its job. The value 'jesse' in greet_user('jesse') is an example of an argument.\n",
        "#### From the above example: \n",
        "##### The username is the variable which is an example of a parameter. The value 'jesse' is an example of an argument"
      ]
    },
    {
      "cell_type": "code",
      "metadata": {
        "colab": {
          "base_uri": "https://localhost:8080/"
        },
        "id": "Qq93biGvrGjr",
        "outputId": "606f6b3f-27ac-47d2-a319-74dc77d57441"
      },
      "source": [
        "def display_message():\n",
        "  \"\"\"Display the message\"\"\"\n",
        "  print(\"We will learn the importance of having a function in your code. \"\n",
        "    \"Functions make a code to be more clear and precise. \"\n",
        "    \"\\nFunctions contains:\\n\\ta. Parameters\\n\\tb. Arguments\\n\\tc. Docstrings\")\n",
        "  \n",
        "display_message()"
      ],
      "execution_count": null,
      "outputs": [
        {
          "output_type": "stream",
          "text": [
            "We will learn the importance of having a function in your code. Functions make a code to be more clear and precise. \n",
            "Functions contains:\n",
            "\ta. Parameters\n",
            "\tb. Arguments\n",
            "\tc. Docstrings\n"
          ],
          "name": "stdout"
        }
      ]
    },
    {
      "cell_type": "code",
      "metadata": {
        "colab": {
          "base_uri": "https://localhost:8080/"
        },
        "id": "zGkW8n1CkDOF",
        "outputId": "6281a3b1-45c6-406e-ec19-7406cd39f6e5"
      },
      "source": [
        "def favorite_book(book_name):\n",
        "  \"\"\"The title of the book.\"\"\"\n",
        "  print(f\"One of my favorite books is: {book_name.title()}\")\n",
        "\n",
        "favorite_book('alice in wonderland')"
      ],
      "execution_count": null,
      "outputs": [
        {
          "output_type": "stream",
          "text": [
            "One of my favorite books is: Alice In Wonderland\n"
          ],
          "name": "stdout"
        }
      ]
    },
    {
      "cell_type": "markdown",
      "metadata": {
        "id": "RM6W8KVJu23X"
      },
      "source": [
        "#### d. Passing Arguments"
      ]
    },
    {
      "cell_type": "markdown",
      "metadata": {
        "id": "_mLbu73pvSZc"
      },
      "source": [
        "##### Because a function definition can have multiple parameters, a function call may need multiple arguments. You can pass arguments to your functions in a number of ways. You can use **positional arguments**, which need to be in the same order the parameters were written; **keyword arguments**, where each argument consists of a variable name and a value; and lists and dictionaries of values."
      ]
    },
    {
      "cell_type": "markdown",
      "metadata": {
        "id": "bdPHcJ_JvqB-"
      },
      "source": [
        "> i.) Positional Arguments\n",
        "##### When you call a function, Python must match each argument in the function call with a parameter in the function definition. The simplest way to do this is based on the order of the arguments provided. Values matched up this way are called positional arguments."
      ]
    },
    {
      "cell_type": "code",
      "metadata": {
        "colab": {
          "base_uri": "https://localhost:8080/"
        },
        "id": "tUPbs5MPujTm",
        "outputId": "9fcacdd6-a9fb-44d5-e539-65eb51984e97"
      },
      "source": [
        "def describe_pet(animal_type, pet_name):\n",
        "  \"\"\"Diaplay information about a pet.\"\"\"\n",
        "  print(f\"I have a {animal_type}.\")\n",
        "  print(f\"My {animal_type}'s name is {pet_name.title()}.\")\n",
        "\n",
        "describe_pet('hamster', 'harry')"
      ],
      "execution_count": null,
      "outputs": [
        {
          "output_type": "stream",
          "text": [
            "I have a hamster.\n",
            "My hamster's name is Harry.\n"
          ],
          "name": "stdout"
        }
      ]
    },
    {
      "cell_type": "code",
      "metadata": {
        "colab": {
          "base_uri": "https://localhost:8080/"
        },
        "id": "ir-YABeayA6x",
        "outputId": "16cd6ec0-ebbe-451b-889c-8318e4be45a8"
      },
      "source": [
        "# Multiple function calls\n",
        "\n",
        "def describe_pet(animal_type, pet_name):\n",
        "  \"\"\"Display information about a pet.\"\"\"\n",
        "  print(f\"I have a {animal_type}.\")\n",
        "  print(f\"My {animal_type}'s name is {pet_name.title()}.\")\n",
        "\n",
        "describe_pet('hamster', 'harry')\n",
        "describe_pet('dog', 'willie')\n"
      ],
      "execution_count": null,
      "outputs": [
        {
          "output_type": "stream",
          "text": [
            "I have a hamster.\n",
            "My hamster's name is Harry.\n",
            "I have a dog.\n",
            "My dog's name is Willie.\n"
          ],
          "name": "stdout"
        }
      ]
    },
    {
      "cell_type": "markdown",
      "metadata": {
        "id": "Zeschgtt764T"
      },
      "source": [
        "> ii.) Keyword Arguments\n",
        "##### A keyword argument is a name-value pair that you pass to a function. You directly associate the name and the value within the argument, so when you pass the argument to the function, there’s no confusion. Keyword arguments free you from having to worry about correctly ordering your arguments in the function call, and they clarify the role of each value in the function call.\n",
        "\n"
      ]
    },
    {
      "cell_type": "code",
      "metadata": {
        "colab": {
          "base_uri": "https://localhost:8080/"
        },
        "id": "EDv0XLbxylrC",
        "outputId": "4940df10-8b77-4785-e6af-4c3ffd46cefd"
      },
      "source": [
        "# Order Matters in Positional Arguments so that it\n",
        "# Prevents having \"harry\" as animal_type instead of animal_name\n",
        "# By using keyword arguments\n",
        "# Rewrite the above code using keyword arguments to call describe_pet():\n",
        "\n",
        "def describe_pet(animal_type, pet_name):\n",
        "  \"\"\"Display information about a pet.\"\"\"\n",
        "  print(f\"I have a {animal_type}.\")\n",
        "  print(f\"My {animal_type}'s name is {pet_name.title()}.\")\n",
        "\n",
        "describe_pet(animal_type='hamster', pet_name='harry')\n",
        "describe_pet(pet_name='willie', animal_type='dog')\n"
      ],
      "execution_count": null,
      "outputs": [
        {
          "output_type": "stream",
          "text": [
            "I have a hamster.\n",
            "My hamster's name is Harry.\n",
            "I have a dog.\n",
            "My dog's name is Willie.\n"
          ],
          "name": "stdout"
        }
      ]
    },
    {
      "cell_type": "markdown",
      "metadata": {
        "id": "TwojJEdB_XrH"
      },
      "source": [
        "#### e. Default Values\n",
        "##### When writing a function, you can define a default value for each parameter. If an argument for a parameter is provided in the function call, Python uses the argument value. If not, it uses the parameter’s default value. So when you define a default value for a parameter, you can exclude the corresponding argument you’d usually write in the function call. Using default values can simplify your function calls and clarify the ways in which your functions are typically used.\n",
        "##### For example, if you notice that most of the calls to describe_pet() are being used to describe dogs, you can set the default value of animal_type to 'dog'. Now anyone calling describe_pet() for a dog can omit that information:"
      ]
    },
    {
      "cell_type": "code",
      "metadata": {
        "colab": {
          "base_uri": "https://localhost:8080/",
          "height": 129
        },
        "id": "ABGTzQ1R-20q",
        "outputId": "a706f4af-626c-4b9f-9f59-7ec38cb8a31e"
      },
      "source": [
        "def describe_pet(animal_type= 'dog', pet_name):\n",
        "  \"\"\"Display information about a pet.\"\"\"\n",
        "  print(f\"I have a {animal_type}.\")\n",
        "  print(f\"My {animal_type}'s name is {pet_name.title()}.\")\n",
        "\n",
        "describe_pet(pet_name='willie')\n"
      ],
      "execution_count": null,
      "outputs": [
        {
          "output_type": "error",
          "ename": "SyntaxError",
          "evalue": "ignored",
          "traceback": [
            "\u001b[0;36m  File \u001b[0;32m\"<ipython-input-39-eb6a9eb18972>\"\u001b[0;36m, line \u001b[0;32m1\u001b[0m\n\u001b[0;31m    def describe_pet(animal_type= 'dog', pet_name):\u001b[0m\n\u001b[0m                    ^\u001b[0m\n\u001b[0;31mSyntaxError\u001b[0m\u001b[0;31m:\u001b[0m non-default argument follows default argument\n"
          ]
        }
      ]
    },
    {
      "cell_type": "code",
      "metadata": {
        "colab": {
          "base_uri": "https://localhost:8080/"
        },
        "id": "jumH5_-PAiQY",
        "outputId": "9c6a360d-89fa-45ec-d2da-659e140481af"
      },
      "source": [
        "# Rearrange the code above as shown below to solve the error\n",
        "\n",
        "def describe_pet(pet_name, animal_type = 'dog'):\n",
        "  \"\"\"Display information about a pet.\"\"\"\n",
        "  print(f\"I have a {animal_type}.\")\n",
        "  print(f\"My {animal_type}'s name is {pet_name.title()}.\")\n",
        "\n",
        "describe_pet(animal_type='hamster', pet_name='harry')\n",
        "describe_pet(pet_name='willie')\n"
      ],
      "execution_count": null,
      "outputs": [
        {
          "output_type": "stream",
          "text": [
            "I have a hamster.\n",
            "My hamster's name is Harry.\n",
            "I have a dog.\n",
            "My dog's name is Willie.\n"
          ],
          "name": "stdout"
        }
      ]
    },
    {
      "cell_type": "code",
      "metadata": {
        "colab": {
          "base_uri": "https://localhost:8080/"
        },
        "id": "GK7hSF_nA92M",
        "outputId": "a3dbb1ea-3293-4cb6-a2b2-79a9d4086628"
      },
      "source": [
        "# The simplest way to call the above function is by putting the name of the dog only\n",
        "\n",
        "def describe_pet(pet_name, animal_type = 'dog'):\n",
        "  \"\"\"Display information about a pet.\"\"\"\n",
        "  print(f\"I have a {animal_type}.\")\n",
        "  print(f\"My {animal_type}'s name is {pet_name.title()}.\")\n",
        "\n",
        "describe_pet('willie')"
      ],
      "execution_count": null,
      "outputs": [
        {
          "output_type": "stream",
          "text": [
            "I have a dog.\n",
            "My dog's name is Willie.\n"
          ],
          "name": "stdout"
        }
      ]
    },
    {
      "cell_type": "code",
      "metadata": {
        "colab": {
          "base_uri": "https://localhost:8080/"
        },
        "id": "l_7-dEwCDfBT",
        "outputId": "86906f88-0b33-435d-be6e-ce4cd57edad1"
      },
      "source": [
        "# Use the above function to call it multiple times\n",
        "\n",
        "def describe_pet(pet_name, animal_type = 'dog'):\n",
        "  \"\"\"Display information about a pet.\"\"\"\n",
        "  print(f\"I have a {animal_type}.\")\n",
        "  print(f\"My {animal_type}'s name is {pet_name.title()}.\")\n",
        "\n",
        "describe_pet('willie')\n",
        "describe_pet(pet_name = 'harry', animal_type= 'hamster')"
      ],
      "execution_count": null,
      "outputs": [
        {
          "output_type": "stream",
          "text": [
            "I have a dog.\n",
            "My dog's name is Willie.\n",
            "I have a hamster.\n",
            "My hamster's name is Harry.\n"
          ],
          "name": "stdout"
        }
      ]
    },
    {
      "cell_type": "markdown",
      "metadata": {
        "id": "8O4aat-uEhnQ"
      },
      "source": [
        "#### f. Equivalent Function Calls\n",
        "##### Because positional arguments, keyword arguments, and default values can all be used together, often you’ll have several equivalent ways to call a function. Consider the following definition for describe_pet() with one default value provided:"
      ]
    },
    {
      "cell_type": "code",
      "metadata": {
        "id": "d1lMRS_bEZL-"
      },
      "source": [
        "def describe_pet(pet_name, animal_type='dog'): \n",
        "  # All of the following calls would work for this function:\n",
        "\n",
        "# A dog named Willie.\n",
        "describe_pet('willie')\n",
        "describe_pet(pet_name='willie')\n",
        "\n",
        "# A hamster named Harry.\n",
        "describe_pet('harry', 'hamster')\n",
        "describe_pet(pet_name='harry', animal_type='hamster')\n",
        "describe_pet(animal_type='hamster', pet_name='harry')\n",
        "\n",
        "# Each of these function calls above would have the same output\n",
        "# as the previous examples."
      ],
      "execution_count": null,
      "outputs": []
    },
    {
      "cell_type": "markdown",
      "metadata": {
        "id": "Y3yCw7C_Lv8w"
      },
      "source": [
        "### Avoiding Argument Errors\n",
        "#### When you start to use functions, don’t be surprised if you encounter errors about unmatched arguments. Unmatched arguments occur when you provide fewer or more arguments than a function needs to do its work. For example, here’s what happens if we try to call describe_pet() with no arguments:"
      ]
    },
    {
      "cell_type": "code",
      "metadata": {
        "colab": {
          "base_uri": "https://localhost:8080/",
          "height": 197
        },
        "id": "FqcwwsSbMHR8",
        "outputId": "adcced78-5208-4667-ac56-609f8e760ba9"
      },
      "source": [
        "def describe_pet(pet_name, animal_type = 'dog'):\n",
        "  \"\"\"Display information about a pet.\"\"\"\n",
        "  print(f\"I have a {animal_type}.\")\n",
        "  print(f\"My {animal_type}'s name is {pet_name.title()}.\")\n",
        "\n",
        "describe_pet()"
      ],
      "execution_count": null,
      "outputs": [
        {
          "output_type": "error",
          "ename": "TypeError",
          "evalue": "ignored",
          "traceback": [
            "\u001b[0;31m---------------------------------------------------------------------------\u001b[0m",
            "\u001b[0;31mTypeError\u001b[0m                                 Traceback (most recent call last)",
            "\u001b[0;32m<ipython-input-43-95908fd5e26c>\u001b[0m in \u001b[0;36m<module>\u001b[0;34m()\u001b[0m\n\u001b[1;32m      4\u001b[0m   \u001b[0mprint\u001b[0m\u001b[0;34m(\u001b[0m\u001b[0;34mf\"My {animal_type}'s name is {pet_name.title()}.\"\u001b[0m\u001b[0;34m)\u001b[0m\u001b[0;34m\u001b[0m\u001b[0;34m\u001b[0m\u001b[0m\n\u001b[1;32m      5\u001b[0m \u001b[0;34m\u001b[0m\u001b[0m\n\u001b[0;32m----> 6\u001b[0;31m \u001b[0mdescribe_pet\u001b[0m\u001b[0;34m(\u001b[0m\u001b[0;34m)\u001b[0m\u001b[0;34m\u001b[0m\u001b[0;34m\u001b[0m\u001b[0m\n\u001b[0m",
            "\u001b[0;31mTypeError\u001b[0m: describe_pet() missing 1 required positional argument: 'pet_name'"
          ]
        }
      ]
    },
    {
      "cell_type": "markdown",
      "metadata": {
        "id": "cqccTMqqMljz"
      },
      "source": [
        "##### Python is helpful in that it reads the function’s code for us and tells us the names of the arguments we need to provide. This is another motivation for giving your variables and functions descriptive names. If you do, Python’s error messages will be more useful to you and anyone else who might use your code. If you provide too many arguments, you should get a similar traceback that can help you correctly match your function call to the function definition."
      ]
    },
    {
      "cell_type": "code",
      "metadata": {
        "colab": {
          "base_uri": "https://localhost:8080/"
        },
        "id": "qJ4O3uGhMKeq",
        "outputId": "9534754b-7c68-4af1-fd03-7b73799a1346"
      },
      "source": [
        "def make_shirt(shirt_size, shirt_text):\n",
        "  \"\"\"Information about the shirt\"\"\"\n",
        "  print(f\"The shirt size is {shirt_size} and the shirt text is {shirt_text.title()}\")\n",
        "\n",
        "# Call the function using position argument\n",
        "make_shirt(10, 'home')\n",
        "\n",
        "# Call the function using keyword argument\n",
        "make_shirt(shirt_size = 10, shirt_text = 'home')\n"
      ],
      "execution_count": null,
      "outputs": [
        {
          "output_type": "stream",
          "text": [
            "The shirt size is 10 and the shirt text is Home\n",
            "The shirt size is 10 and the shirt text is Home\n"
          ],
          "name": "stdout"
        }
      ]
    },
    {
      "cell_type": "code",
      "metadata": {
        "colab": {
          "base_uri": "https://localhost:8080/"
        },
        "id": "nV5x8kiEOaYL",
        "outputId": "00223f74-c002-41fd-aed0-029306a6172b"
      },
      "source": [
        "def make_shirt(shirt_text, shirt_size = 'large'):\n",
        "  \"\"\"Information about the shirt\"\"\"\n",
        "  print(f\"The shirt size is {shirt_size} and the shirt text is '{shirt_text.title()}'\")\n",
        "\n",
        "# Call the funtion using different formats\n",
        "make_shirt('i love python')\n",
        "make_shirt('i love python', shirt_size = 'medium')\n",
        "make_shirt(shirt_text = 'greatness', shirt_size = 'small')"
      ],
      "execution_count": null,
      "outputs": [
        {
          "output_type": "stream",
          "text": [
            "The shirt size is large and the shirt text is 'I Love Python'\n",
            "The shirt size is medium and the shirt text is 'I Love Python'\n",
            "The shirt size is small and the shirt text is 'Greatness'\n"
          ],
          "name": "stdout"
        }
      ]
    },
    {
      "cell_type": "markdown",
      "metadata": {
        "id": "CuEvRBjriI1L"
      },
      "source": [
        "### Return Values\n",
        "#### A function doesn’t always have to display its output directly. Instead, it can process some data and then return a value or set of values. The value the function returns is called a return value. The return statement takes a value from inside a function and sends it back to the line that called the function. Return values allow you to move much of your program’s grunt work into functions, which can simplify the body of your program."
      ]
    },
    {
      "cell_type": "markdown",
      "metadata": {
        "id": "EJIpGMQhi-KM"
      },
      "source": [
        "##### a. Returning a simple value\n",
        "###### Consider a function that takes a first and last name, and returns a neatly formatted full name:"
      ]
    },
    {
      "cell_type": "code",
      "metadata": {
        "colab": {
          "base_uri": "https://localhost:8080/"
        },
        "id": "f1Xx73yLhhGS",
        "outputId": "bccbd230-3955-4c43-ac3c-09c50b8266ef"
      },
      "source": [
        "# Consider a function that takes a first and last name, \n",
        "# and returns a neatly formatted full name\n",
        "\n",
        "def get_formatted_name(first_name, last_name):\n",
        "  \"\"\"Return a full name, neatly formated\"\"\"\n",
        "  full_name = f\"{first_name} {last_name}\"\n",
        "  return full_name.title()\n",
        "\n",
        "musician = get_formatted_name('jimi', 'hendrix')\n",
        "print(musician)"
      ],
      "execution_count": null,
      "outputs": [
        {
          "output_type": "stream",
          "text": [
            "Jimi Hendrix\n"
          ],
          "name": "stdout"
        }
      ]
    },
    {
      "cell_type": "markdown",
      "metadata": {
        "id": "kcLaUs5Vljem"
      },
      "source": [
        "##### b. Making an argument optional\n",
        "###### Sometimes it makes sense to make an argument optional so that people using the function can choose to provide extra information only if they want to. You can use default values to make an argument optional. For example, say we want to expand get_formatted_name() to handle middle names as well."
      ]
    },
    {
      "cell_type": "code",
      "metadata": {
        "colab": {
          "base_uri": "https://localhost:8080/"
        },
        "id": "PVnDbyNtkdOh",
        "outputId": "b0bc3d80-c7a3-45b6-fd52-1db312905ff0"
      },
      "source": [
        "# Add a middle name to the get_formatted_name\n",
        "\n",
        "def get_formatted_name(first_name, middle_name, last_name):\n",
        "  \"\"\"Return a full name, neatly formatted.\"\"\"\n",
        "  full_name = f\"{first_name} {middle_name} {last_name}\"\n",
        "  return full_name.title()\n",
        "\n",
        "musician = get_formatted_name('john', 'lee', 'hooker')\n",
        "print(musician)"
      ],
      "execution_count": null,
      "outputs": [
        {
          "output_type": "stream",
          "text": [
            "John Lee Hooker\n"
          ],
          "name": "stdout"
        }
      ]
    },
    {
      "cell_type": "code",
      "metadata": {
        "colab": {
          "base_uri": "https://localhost:8080/"
        },
        "id": "CjEnegzNmZvi",
        "outputId": "db79afd1-295f-419c-c645-b1be7fe70abe"
      },
      "source": [
        "# The above function doesn't work without the three parameters\n",
        "# To make the middle name optional, set the default value of middle_name\n",
        "# to an empty string and move it to the end of the list of parameters:\n",
        "\n",
        "def get_formatted_name(first_name, last_name, middle_name = ''):\n",
        "  \"\"\"Return a full name, neatly formatted.\"\"\"\n",
        "  if middle_name:\n",
        "    full_name = f\"{first_name} {middle_name} {last_name}\"\n",
        "  else:\n",
        "    full_name = f\"{first_name} {last_name}\"\n",
        "  return full_name.title()\n",
        "\n",
        "musician = get_formatted_name('jimi', 'hendrix')\n",
        "print(musician)\n",
        "\n",
        "musician = get_formatted_name('john', 'lee', 'hooker')\n",
        "print(musician)"
      ],
      "execution_count": null,
      "outputs": [
        {
          "output_type": "stream",
          "text": [
            "Jimi Hendrix\n",
            "John Hooker Lee\n"
          ],
          "name": "stdout"
        }
      ]
    },
    {
      "cell_type": "markdown",
      "metadata": {
        "id": "-s79YrkWtEpa"
      },
      "source": [
        "##### c. Returning a Dictionary"
      ]
    },
    {
      "cell_type": "code",
      "metadata": {
        "colab": {
          "base_uri": "https://localhost:8080/"
        },
        "id": "nMsag5-iq33L",
        "outputId": "64fcfd19-7b13-4b45-b07e-f109c7e40175"
      },
      "source": [
        "def build_person(first_name, last_name):\n",
        "  \"\"\"Return a Dictionary of information about a person.\"\"\"\n",
        "  person = {'first': first_name, 'last': last_name}\n",
        "  return person\n",
        "\n",
        "musician = build_person('jimi', 'hendrix')\n",
        "print(musician)\n"
      ],
      "execution_count": null,
      "outputs": [
        {
          "output_type": "stream",
          "text": [
            "{'first': 'jimi', 'last': 'hendrix'}\n"
          ],
          "name": "stdout"
        }
      ]
    },
    {
      "cell_type": "code",
      "metadata": {
        "colab": {
          "base_uri": "https://localhost:8080/"
        },
        "id": "RC9NEnJuu0St",
        "outputId": "f656c823-b95b-48bd-d560-5dd4304b8d45"
      },
      "source": [
        "# From the above code, make a person's age to be optional\n",
        "# Print a function with a person's age and the other without\n",
        "\n",
        "def build_person(first_name, last_name, age = None):\n",
        "  \"\"\"Return a Dictionary of information about a person.\"\"\"\n",
        "  person = {'first': first_name, 'last': last_name, 'age': age}\n",
        "  if age:\n",
        "    person['age'] = age\n",
        "  return person  \n",
        "  \n",
        "musician = build_person('jimi', 'hendrix')\n",
        "print(musician)\n",
        "\n",
        "musician = build_person('jimi', 'hendrix', age = 70)\n",
        "print(f\"\\n{musician}\")"
      ],
      "execution_count": null,
      "outputs": [
        {
          "output_type": "stream",
          "text": [
            "{'first': 'jimi', 'last': 'hendrix', 'age': None}\n",
            "\n",
            "{'first': 'jimi', 'last': 'hendrix', 'age': 70}\n"
          ],
          "name": "stdout"
        }
      ]
    },
    {
      "cell_type": "markdown",
      "metadata": {
        "id": "gIqhBSIaziuV"
      },
      "source": [
        "##### Using a Function with a while Loop"
      ]
    },
    {
      "cell_type": "code",
      "metadata": {
        "id": "o16SsB9dwyu-"
      },
      "source": [
        "# use the get_formatted_name() function with a while\n",
        "# loop to greet users more formally\n",
        "\n",
        "def get_formatted_name(first_name, last_name, middle_name = ''):\n",
        "  \"\"\"Return a full name, neatly formatted.\"\"\"\n",
        "  full_name = f\"{first_name} {last_name}\"\n",
        "  return full_name.title()\n",
        "\n",
        "# This an infinite loop!\n",
        "while True:\n",
        "  print(\"\\nPlease tell me your name:\")\n",
        "  f_name = input(\"First name: \")\n",
        "  l_name = input(\"Last name: \")\n",
        "\n",
        "formatted_name = get_formatted_name(f_name, l_name)\n",
        "print(f\"\\nHello, {formatted_name}!\")\n",
        "\n",
        "# N/B: The problem with this code is that there's no option for quitting"
      ],
      "execution_count": null,
      "outputs": []
    },
    {
      "cell_type": "code",
      "metadata": {
        "colab": {
          "base_uri": "https://localhost:8080/"
        },
        "id": "qF85Wr3Z4Ez4",
        "outputId": "5115ce0e-579c-4bb8-858b-a891e0d0e3cc"
      },
      "source": [
        "# Add a quit condition on the above program\n",
        "\n",
        "def get_formatted_name(first_name, last_name, middle_name = ''):\n",
        "  \"\"\"Return a full name, neatly formatted.\"\"\"\n",
        "  full_name = f\"{first_name} {last_name}\"\n",
        "  return full_name.title()\n",
        "\n",
        "# This is not an infinite loop!\n",
        "while True:\n",
        "  print(\"\\nPlease tell me your name:\")\n",
        "  print(\"(enter 'q' at any time to quit)\")\n",
        "\n",
        "  f_name = input(\"First name: \")\n",
        "  if f_name == 'q':\n",
        "    break\n",
        "\n",
        "  l_name = input(\"Last name: \")\n",
        "  if l_name == 'q':\n",
        "    break\n",
        "\n",
        "formatted_name = get_formatted_name(f_name, l_name)\n",
        "print(f\"\\nHello, {formatted_name}!\")"
      ],
      "execution_count": null,
      "outputs": [
        {
          "output_type": "stream",
          "text": [
            "\n",
            "Please tell me your name:\n",
            "(enter 'q' at any time to quit)\n",
            "First name: Eric Mattes\n",
            "Last name: Mercelle\n",
            "\n",
            "Please tell me your name:\n",
            "(enter 'q' at any time to quit)\n",
            "First name: Hul\n",
            "Last name: Gird\n",
            "\n",
            "Please tell me your name:\n",
            "(enter 'q' at any time to quit)\n",
            "First name: q\n",
            "\n",
            "Hello, Q Gird!\n"
          ],
          "name": "stdout"
        }
      ]
    },
    {
      "cell_type": "code",
      "metadata": {
        "colab": {
          "base_uri": "https://localhost:8080/"
        },
        "id": "r37QDcrU5heM",
        "outputId": "cf0df2cb-b885-4904-ee55-8ca6817eef98"
      },
      "source": [
        "def city_country(city_name, country_name):\n",
        "  \"\"\"Information about City and Country\"\"\"\n",
        "  place = f\"{city_name}, {country_name}\"\n",
        "  return place.title()\n",
        "\n",
        "city = city_country('nairobi', 'kenya')\n",
        "print(city)"
      ],
      "execution_count": null,
      "outputs": [
        {
          "output_type": "stream",
          "text": [
            "Nairobi, Kenya\n"
          ],
          "name": "stdout"
        }
      ]
    },
    {
      "cell_type": "code",
      "metadata": {
        "colab": {
          "base_uri": "https://localhost:8080/"
        },
        "id": "xJ1yXb9g7yag",
        "outputId": "cf534e7f-acf0-4d8f-f1ce-3e8393e99614"
      },
      "source": [
        "# Write a function called make_album() that builds a dictionary describing a music album.\n",
        "def make_album(artist_name, album_title):\n",
        "  \"\"\"Information about Music Album\"\"\"\n",
        "  album = {'artist': artist_name, 'album': album_title}\n",
        "  return album\n",
        "\n",
        "music_album = make_album('cia', 'chanderlier')\n",
        "print(f\"Music Album = {music_album}\")"
      ],
      "execution_count": null,
      "outputs": [
        {
          "output_type": "stream",
          "text": [
            "Music Album = {'artist': 'cia', 'album': 'chanderlier'}\n"
          ],
          "name": "stdout"
        }
      ]
    },
    {
      "cell_type": "code",
      "metadata": {
        "colab": {
          "base_uri": "https://localhost:8080/"
        },
        "id": "hYWZylEu-ZLj",
        "outputId": "da60897c-1090-4dec-a413-9f097a4a155b"
      },
      "source": [
        "# # Write a function called make_album() that builds a dictionary describing a music album.\n",
        "# Use None to add an optional parameter to make_album() \n",
        "# that stores the number of songs on the album\n",
        "\n",
        "def make_album(artist_name, album_title, songs_number = None):\n",
        "  \"\"\"Information about Music Album\"\"\"\n",
        "  album = {'artist': artist_name, 'album': album_title, 'songs number': songs_number}\n",
        "  if songs_number:\n",
        "    music_album['songs number'] = songs_number\n",
        "  return album\n",
        "\n",
        "music_album = make_album('cia', 'chanderlier')\n",
        "print(f\"Music Album = {music_album}\")\n",
        "\n",
        "music_album = make_album('cia', 'chanderlier', songs_number = 13)\n",
        "print(f\"\\nMusic Album = {music_album}\")"
      ],
      "execution_count": null,
      "outputs": [
        {
          "output_type": "stream",
          "text": [
            "Music Album = {'artist': 'cia', 'album': 'chanderlier', 'songs number': None}\n",
            "\n",
            "Music Album = {'artist': 'cia', 'album': 'chanderlier', 'songs number': 13}\n"
          ],
          "name": "stdout"
        }
      ]
    },
    {
      "cell_type": "code",
      "metadata": {
        "id": "OIQA4ebzqllx",
        "colab": {
          "base_uri": "https://localhost:8080/"
        },
        "outputId": "0f513828-2a78-4243-b8e7-80bf853741e2"
      },
      "source": [
        "def make_album():\n",
        "  \"\"\"Information about Music Album\"\"\"\n",
        "  polling_active_2 = True\n",
        "\n",
        "  while polling_active_2:\n",
        "    # Prompt for user's to enter an album's artist, title and number of songs\n",
        "    artist_name = input(\"Artist's name: \")\n",
        "    album_title = input(\"What's the title of the album? \") \n",
        "    songs_number = input(\"How many song's does the album have? \")\n",
        "    \n",
        "    # Find out if anyone else is going to take the poll\n",
        "    repeat = input(\"Would you like to let another person respond? (yes/ no)\")\n",
        "    if repeat == 'no':\n",
        "      polling_active_2 = False\n",
        "  \n",
        "  album = {'artist': artist_name, 'album': album_title, 'songs number': songs_number}\n",
        "  return album\n",
        "#music_album = make_album('cia', 'chanderlier')\n",
        "#print(f\"Music Album = {music_album}\")\n",
        "\n",
        "music_album = make_album()\n",
        "print(f\"\\nMusic Album = {music_album}\")"
      ],
      "execution_count": null,
      "outputs": [
        {
          "output_type": "stream",
          "text": [
            "Artist's name: beyonce\n",
            "What's the title of the album? lemonade\n",
            "How many song's does the album have? 12\n",
            "Would you like to let another person respond? (yes/ no)yes\n",
            "Artist's name: ciara\n",
            "What's the title of the album? beauty marks\n",
            "How many song's does the album have? 11\n",
            "Would you like to let another person respond? (yes/ no)yes\n",
            "Artist's name: andra day\n",
            "What's the title of the album? merry christmas\n",
            "How many song's does the album have? 5\n",
            "Would you like to let another person respond? (yes/ no)no\n",
            "\n",
            "Music Album = {'artist': 'andra day', 'album': 'merry christmas', 'songs number': '5'}\n"
          ],
          "name": "stdout"
        }
      ]
    },
    {
      "cell_type": "code",
      "metadata": {
        "colab": {
          "base_uri": "https://localhost:8080/"
        },
        "id": "t_Z5fMEf2cud",
        "outputId": "91dd67ba-30aa-41d8-d65c-6e2e8e2453ba"
      },
      "source": [
        "def make_album():\n",
        "  \"\"\"Information about Music Album\"\"\"\n",
        "  polling_active_2 = True\n",
        "\n",
        "  while polling_active_2:\n",
        "    # Prompt for user's to enter an album's artist, title and number of songs\n",
        "    artist_name = input(\"Artist's name: \")\n",
        "    album_title = input(\"What's the title of the album? \") \n",
        "    songs_number = input(\"How many song's does the album have? \")\n",
        "\n",
        "    # Find out if anyone else is going to take the poll\n",
        "    repeat = input(\"Would you like to let another person respond? (yes/ no)\")\n",
        "    if repeat == 'no':\n",
        "      polling_active_2 = False\n",
        "\n",
        "    # for artist_name, album_title, songs_number in music_album:\n",
        "    # album = {'artist': artist_name, 'album': album_title, 'songs number': songs_number}\n",
        "    # Store the reponse in a dictionary\n",
        "    album['artist'] = artist_name\n",
        "    album['album'] = album_title\n",
        "    album['songs number'] = songs_number\n",
        "    \n",
        "    # Polling is complete. Show the results.\n",
        "    print(\"\\n--- Poll Results ---\")\n",
        "\n",
        "music_album = make_album()\n",
        "print(f\"\\nMusic Album = {music_album}\")"
      ],
      "execution_count": null,
      "outputs": [
        {
          "output_type": "stream",
          "text": [
            "Artist's name: beyonce\n",
            "What's the title of the album? lemonade\n",
            "How many song's does the album have? 12\n",
            "Would you like to let another person respond? (yes/ no)yes\n",
            "\n",
            "--- Poll Results ---\n",
            "Artist's name: ciara\n",
            "What's the title of the album? beautiful marks\n",
            "How many song's does the album have? 11\n",
            "Would you like to let another person respond? (yes/ no)yes\n",
            "\n",
            "--- Poll Results ---\n",
            "Artist's name: andra day\n",
            "What's the title of the album? merry christmas\n",
            "How many song's does the album have? 5\n",
            "Would you like to let another person respond? (yes/ no)no\n",
            "\n",
            "--- Poll Results ---\n",
            "\n",
            "Music Album = None\n"
          ],
          "name": "stdout"
        }
      ]
    },
    {
      "cell_type": "code",
      "metadata": {
        "colab": {
          "base_uri": "https://localhost:8080/"
        },
        "id": "ZGQn11LQYA_g",
        "outputId": "ac9ba6b7-e106-482e-8dab-88d385024848"
      },
      "source": [
        "def make_album():\n",
        "  \"\"\"Information about Music Album\"\"\"\n",
        "  polling_active_2 = True\n",
        "\n",
        "  while polling_active_2:\n",
        "    # Prompt for user's to enter an album's artist, title and number of songs\n",
        "    artist_name = input(\"Artist's name: \")\n",
        "    album_title = input(\"What's the title of the album? \") \n",
        "    songs_number = input(\"How many song's does the album have? \")\n",
        "\n",
        "    # Find out if anyone else is going to take the poll\n",
        "    repeat = input(\"Would you like to let another person respond? (yes/ no)\")\n",
        "    if repeat == 'no':\n",
        "      polling_active_2 = False\n",
        "\n",
        "    # for artist_name, album_title, songs_number in music_album:\n",
        "    # album = {'artist': artist_name, 'album': album_title, 'songs number': songs_number}\n",
        "    # Store the reponse in a dictionary\n",
        "    album = {}\n",
        "    album['artist'] = artist_name\n",
        "    album['album'] = album_title\n",
        "    album['songs number'] = songs_number\n",
        "    \n",
        "    # Polling is complete. Show the results.\n",
        "    print(\"\\n--- Poll Results ---\")\n",
        "    \n",
        "  return album\n",
        "\n",
        "  \n",
        "\n",
        "music_album = make_album()\n",
        "print(f\"\\nMusic Album = {music_album}\")"
      ],
      "execution_count": null,
      "outputs": [
        {
          "output_type": "stream",
          "text": [
            "Artist's name: beyonce\n",
            "What's the title of the album? lemonade\n",
            "How many song's does the album have? 12\n",
            "Would you like to let another person respond? (yes/ no)yes\n",
            "Artist's name: ciara\n",
            "What's the title of the album? beautiful marks\n",
            "How many song's does the album have? 11\n",
            "Would you like to let another person respond? (yes/ no)no\n",
            "\n",
            "Music Album = {'artist': 'ciara', 'album': 'beautiful marks', 'songs number': '11'}\n"
          ],
          "name": "stdout"
        }
      ]
    },
    {
      "cell_type": "markdown",
      "metadata": {
        "id": "A17ZJp5hLdPw"
      },
      "source": [
        "### Passing a List\n",
        "##### You’ll often find it useful to pass a list to a function, whether it’s a list of names, numbers, or more complex objects, such as dictionaries. When you pass a list to a function, the function gets direct access to the contents of the list."
      ]
    },
    {
      "cell_type": "code",
      "metadata": {
        "colab": {
          "base_uri": "https://localhost:8080/"
        },
        "id": "IiL8RhfxMNS3",
        "outputId": "225770e1-ee35-4963-c820-471a0b2953be"
      },
      "source": [
        "# Have a list of users and  print a greeting to each\n",
        "# Send a list of names to a function called greet_users(),\n",
        "# which greets each person in the list individually\n",
        "\n",
        "def greet_users(names):\n",
        "  \"\"\"Print a simple greeting to each user in the list.\"\"\"\n",
        "  for name in names:\n",
        "    msg = f\"Hello {name.title()}!\"\n",
        "    print(msg)\n",
        "\n",
        "usernames = ['hannah', 'ty', 'margot']\n",
        "greet_users(usernames)"
      ],
      "execution_count": null,
      "outputs": [
        {
          "output_type": "stream",
          "text": [
            "Hello Hannah!\n",
            "Hello Ty!\n",
            "Hello Margot!\n"
          ],
          "name": "stdout"
        }
      ]
    },
    {
      "cell_type": "markdown",
      "metadata": {
        "id": "7p_gDTG0jfN_"
      },
      "source": [
        "### Modifying a list in a function: \n",
        "#### Any changes made to the list inside the function’s body are permanent. Consider a company that creates 3D printed models of designs that users submit. Designs that need to be printed are stored in a list, and after being printed they’re moved to a separate list. The following code does this without using functions:"
      ]
    },
    {
      "cell_type": "code",
      "metadata": {
        "colab": {
          "base_uri": "https://localhost:8080/"
        },
        "id": "7dx_1zuwc_bw",
        "outputId": "6cd5e576-c60b-4f09-c90f-b6c349d5ca0b"
      },
      "source": [
        "# Start with some designs that need to be printed.\n",
        "unprinted_designs = ['phone case', 'robot pendant', 'dodecahedron']\n",
        "completed_models = []\n",
        "\n",
        "# Simulate printing each design, until none are left.\n",
        "# Move each design to completed_models after printing.\n",
        "while unprinted_designs:\n",
        "  current_design = unprinted_designs.pop()\n",
        "  print(f\"Printing model: {current_design}\")\n",
        "  completed_models.append(current_design)\n",
        "\n",
        "# Display all completed models.\n",
        "print(\"\\nThe following models have been printed:\")\n",
        "for completed_model in completed_models:\n",
        "  print(completed_model)\n",
        "\n"
      ],
      "execution_count": null,
      "outputs": [
        {
          "output_type": "stream",
          "text": [
            "Printing model: dodecahedron\n",
            "Printing model: robot pendant\n",
            "Printing model: phone case\n",
            "\n",
            "The following models have been printed:\n",
            "dodecahedron\n",
            "robot pendant\n",
            "phone case\n"
          ],
          "name": "stdout"
        }
      ]
    },
    {
      "cell_type": "markdown",
      "metadata": {
        "id": "9Ogq8UIVqKrv"
      },
      "source": [
        "#### Reorganize the above code by writing two functions, each of which does one specific job. Most of the code won’t change; we’re just making it more carefully structured. The first function will handle printing the designs, and the second will summarize the prints that have been made:"
      ]
    },
    {
      "cell_type": "code",
      "metadata": {
        "colab": {
          "base_uri": "https://localhost:8080/"
        },
        "id": "uBSWRlHEnoWK",
        "outputId": "d7eddbb9-cdc5-4051-f434-c0063fe1e5da"
      },
      "source": [
        "def print_models(unprinted_designs, completed_models):\n",
        "  \"\"\"\n",
        "  Simulate printing each design, until none are left.\n",
        "  Move each design to completed_models after printing.\n",
        "  \"\"\"\n",
        "  while unprinted_designs:\n",
        "    current_design = unprinted_designs.pop()\n",
        "    print(f\"Printing model: {current_design}\")\n",
        "    completed_models.append(current_design)\n",
        "\n",
        "def show_completed_models(completed_models):\n",
        "  \"\"\"Show all models that were printed\"\"\"\n",
        "  print(f\"\\nThe following models have been printed:\")\n",
        "  for completed_model in completed_models:\n",
        "    print(completed_model)\n",
        "\n",
        "unprinted_designs = ['phone case', 'robot pendant', 'dodecahedron']\n",
        "completed_models = []\n",
        "\n",
        "print_models(unprinted_designs, completed_models)\n",
        "show_completed_models(completed_models)"
      ],
      "execution_count": null,
      "outputs": [
        {
          "output_type": "stream",
          "text": [
            "Printing model: dodecahedron\n",
            "Printing model: robot pendant\n",
            "Printing model: phone case\n",
            "\n",
            "The following models have been printed:\n",
            "dodecahedron\n",
            "robot pendant\n",
            "phone case\n"
          ],
          "name": "stdout"
        }
      ]
    },
    {
      "cell_type": "markdown",
      "metadata": {
        "id": "CVfz1_qf62_a"
      },
      "source": [
        "### Preventing a Function from Modifying a List\n",
        "##### Sometimes you’ll want to prevent a function from modifying a list. For example, say that you start with a list of unprinted designs and write a function to move them to a list of completed models, as in the previous example. You may decide that even though you’ve printed all the designs, you want to keep the original list of unprinted designs for your records.\n",
        "##### But because you moved all the design names out of unprinted_designs, the list is now empty, and the empty list is the only version you have; the original is gone. In this case, you can address this issue by passing the function a copy of the list, not the original. Any changes the function makes to the list will affect only the copy, leaving the original list intact.\n"
      ]
    },
    {
      "cell_type": "code",
      "metadata": {
        "id": "RiRsygESyUY6"
      },
      "source": [
        "# You can send a copy of a list to a function like this:\n",
        "\n",
        "function_name(list_name[:])"
      ],
      "execution_count": null,
      "outputs": []
    },
    {
      "cell_type": "code",
      "metadata": {
        "id": "SUFqFwIaICOC"
      },
      "source": [
        "# If we didn’t want to empty the list of unprinted designs \n",
        "# in printing_models function, we could call print_models() like this:\n",
        "\n",
        "print_models(unprinted_designs[:], completed_models)"
      ],
      "execution_count": null,
      "outputs": []
    },
    {
      "cell_type": "code",
      "metadata": {
        "id": "v3kci2pVKLW_"
      },
      "source": [
        "# Make a list containing short messages\n",
        "short_msg = ['hello', 'yes', 'good', 'perfect']\n"
      ],
      "execution_count": null,
      "outputs": []
    },
    {
      "cell_type": "code",
      "metadata": {
        "colab": {
          "base_uri": "https://localhost:8080/"
        },
        "id": "punsUAegLdDr",
        "outputId": "68f94715-9c18-4a61-8cb7-7701a40a3aea"
      },
      "source": [
        "# Pass the above list to a function called show_messages, which prints each text\n",
        "def show_messages(short_msg):\n",
        "  \"\"\"Print simple text messages\"\"\"\n",
        "  print(f\"Below is a list of simple text messages:\")\n",
        "  for message in short_msg:\n",
        "    print(message)\n",
        "\n",
        "short_msg = ['hello', 'yes', 'good', 'perfect']\n",
        "\n",
        "show_messages(short_msg)"
      ],
      "execution_count": null,
      "outputs": [
        {
          "output_type": "stream",
          "text": [
            "Below is a list of simple text messages:\n",
            "hello\n",
            "yes\n",
            "good\n",
            "perfect\n"
          ],
          "name": "stdout"
        }
      ]
    },
    {
      "cell_type": "code",
      "metadata": {
        "colab": {
          "base_uri": "https://localhost:8080/"
        },
        "id": "yh4qc8OFLoPt",
        "outputId": "dd309cf0-ad23-470e-b871-ee6688bbdea9"
      },
      "source": [
        "# Start with a copy of your above program\n",
        "def show_messages(short_msg):\n",
        "  \"\"\"Print simple text messages\"\"\"\n",
        "  print(f\"Below is a list of simple text messages:\")\n",
        "  for message in short_msg:\n",
        "    print(message)\n",
        "\n",
        "def send_messages(short_msg, sent_messages):\n",
        "  \"\"\"\n",
        "  prints each text message and moves each message\n",
        "  to a new list called sent_messages\n",
        "  \"\"\"\n",
        "  print(\"\\nThe messages that were moved are as shown below:\")\n",
        "  while short_msg:\n",
        "    current_messages = short_msg.pop()\n",
        "    print(current_messages)\n",
        "    sent_messages.append(current_messages)\n",
        "\n",
        "short_msg = ['hello', 'yes', 'good', 'perfect']\n",
        "sent_messages = []\n",
        "\n",
        "show_messages(short_msg)\n",
        "send_messages(short_msg, sent_messages)"
      ],
      "execution_count": null,
      "outputs": [
        {
          "output_type": "stream",
          "text": [
            "Below is a list of simple text messages:\n",
            "hello\n",
            "yes\n",
            "good\n",
            "perfect\n",
            "\n",
            "The messages that were moved are as shown below:\n",
            "perfect\n",
            "good\n",
            "yes\n",
            "hello\n"
          ],
          "name": "stdout"
        }
      ]
    },
    {
      "cell_type": "code",
      "metadata": {
        "id": "jBmKpmV0PKRB"
      },
      "source": [
        "# Start with a copy of the above exercise \n",
        "\n",
        "def show_messages(short_msg):\n",
        "  \"\"\"Print simple text messages\"\"\"\n",
        "  print(f\"Below is a list of simple text messages:\")\n",
        "  for message in short_msg:\n",
        "    print(message)\n",
        "\n",
        "def send_messages(short_msg, sent_messages):\n",
        "  \"\"\"\n",
        "  prints each text message and moves each message\n",
        "  to a new list called sent_messages\n",
        "  \"\"\"\n",
        "  print(\"\\nThe messages that were moved are as shown below:\")\n",
        "  while short_msg:\n",
        "    current_messages = short_msg.pop()\n",
        "    print(current_messages)\n",
        "    sent_messages.append(current_messages)\n",
        "\n",
        "short_msg = ['hello', 'yes', 'good', 'perfect']\n",
        "sent_messages = []\n",
        "\n",
        "show_messages(short_msg)\n",
        "send_messages(short_msg, sent_messages)\n",
        "# Call the function send_messages() with a copy of the list of messages.\n",
        "send_messages(short_msg[:], sent_messages)"
      ],
      "execution_count": null,
      "outputs": []
    },
    {
      "cell_type": "markdown",
      "metadata": {
        "id": "gMKnWnesVNus"
      },
      "source": [
        "### Passing an Arbitrary Number of Arguments\n",
        "##### Sometimes you won’t know ahead of time how many arguments a function needs to accept. Fortunately, Python allows a function to collect an arbitrary number of arguments from the calling statement.\n",
        "##### Consider a function that builds a pizza. It needs to accept a number of toppings, but you can’t know ahead of time how many toppings a person will want. The function in the following example has one parameter, *toppings, but this parameter collects as many arguments as the calling line provides:"
      ]
    },
    {
      "cell_type": "code",
      "metadata": {
        "id": "m_Q2ywfUah9D",
        "colab": {
          "base_uri": "https://localhost:8080/"
        },
        "outputId": "e6c350b9-fa43-4e12-f86b-f965caeffbb9"
      },
      "source": [
        "# The asterisk in the parameter name *toppings tells Python\n",
        "# to make an empty tuple called toppings\n",
        "# Python packs the arguments into a tuple, \n",
        "# even if the function receives only one value:\n",
        "def make_pizza(*toppings):\n",
        "  \"\"\"Print the list of toppings that have been requested.\"\"\"\n",
        "  print(toppings)\n",
        "  \n",
        "make_pizza('pepperoni')\n",
        "make_pizza('mushrooms', 'green peppers', 'extra cheese')"
      ],
      "execution_count": null,
      "outputs": [
        {
          "output_type": "stream",
          "text": [
            "('pepperoni',)\n",
            "('mushrooms', 'green peppers', 'extra cheese')\n"
          ],
          "name": "stdout"
        }
      ]
    },
    {
      "cell_type": "code",
      "metadata": {
        "colab": {
          "base_uri": "https://localhost:8080/"
        },
        "id": "q7UDV7O2ikyr",
        "outputId": "4ff09e2d-329b-4720-9871-76a6a9c0d43f"
      },
      "source": [
        "# Replace the above print() call with a loop that runs through the\n",
        "# list of toppings and describes the pizza being ordered\n",
        "def make_pizza(*toppings):\n",
        "  \"\"\"Summarize the pizza we are about to make.\"\"\"\n",
        "  print(\"\\nMaking a pizza with the following toppings:\")\n",
        "  for topping in toppings:\n",
        "    print(f\"- {topping}\")\n",
        "  \n",
        "make_pizza('pepperoni')\n",
        "make_pizza('mushrooms', 'green peppers', 'extra cheese')"
      ],
      "execution_count": null,
      "outputs": [
        {
          "output_type": "stream",
          "text": [
            "\n",
            "Making a pizza with the following toppings:\n",
            "- pepperoni\n",
            "\n",
            "Making a pizza with the following toppings:\n",
            "- mushrooms\n",
            "- green peppers\n",
            "- extra cheese\n"
          ],
          "name": "stdout"
        }
      ]
    },
    {
      "cell_type": "markdown",
      "metadata": {
        "id": "f5TsyFZIJvUE"
      },
      "source": [
        "### Mixing Positional and Arbitrary Arguments\n",
        "##### If you want a function to accept several different kinds of arguments, the parameter that accepts an arbitrary number of arguments must be placed last in the function definition. Python matches positional and keyword arguments first and then collects any remaining arguments in the final parameter."
      ]
    },
    {
      "cell_type": "code",
      "metadata": {
        "colab": {
          "base_uri": "https://localhost:8080/"
        },
        "id": "f76_k4c2Glio",
        "outputId": "9d753b97-0807-47a6-f4b9-6b9c414a59b8"
      },
      "source": [
        "# Mixing positional and arbitary arguments\n",
        "def make_pizza(size, *toppings):\n",
        "  \"\"\"Summarize the pizza we are about to make.\"\"\"\n",
        "  print(f\"\\nMaking a {size}-inch pizza with the following toppings:\")\n",
        "  for topping in toppings:\n",
        "    print(f\"- {topping}\")\n",
        "  \n",
        "make_pizza(16, 'pepperoni')\n",
        "make_pizza(12, 'mushrooms', 'green peppers', 'extra cheese')"
      ],
      "execution_count": null,
      "outputs": [
        {
          "output_type": "stream",
          "text": [
            "\n",
            "Making a 16-inch pizza with the following toppings:\n",
            "- pepperoni\n",
            "\n",
            "Making a 12-inch pizza with the following toppings:\n",
            "- mushrooms\n",
            "- green peppers\n",
            "- extra cheese\n"
          ],
          "name": "stdout"
        }
      ]
    },
    {
      "cell_type": "markdown",
      "metadata": {
        "id": "ykipbGn0Tp5Q"
      },
      "source": [
        "### Using Arbitrary Keyword Arguments\n",
        "##### Sometimes you’ll want to accept an arbitrary number of arguments, but you won’t know ahead of time what kind of information will be passed to the function. In this case, you can write functions that accept as many key-value pairs as the calling statement provides. One example involves building user profiles: you know you’ll get information about a user, but you’re not sure what kind of information you’ll receive.\n",
        "##### The double asterisks before the parameter **user_info cause Python to create an empty dictionary called user_info and pack whatever name-value pairs it receives into this dictionary."
      ]
    },
    {
      "cell_type": "code",
      "metadata": {
        "colab": {
          "base_uri": "https://localhost:8080/"
        },
        "id": "j9Gm5U_6RnS4",
        "outputId": "b706ec86-2cc2-47f7-9a7b-5f4f80a24c6f"
      },
      "source": [
        "# Make a function called build_profile() which takes in first and last name but\n",
        "# also accepts an arbitrary number of keyword arguments as well:\n",
        "\n",
        "def build_profile(first, last, **user_info):\n",
        "  \"\"\"Build a dictionary about everything we know about a user.\"\"\"\n",
        "  user_info['first_name'] = first\n",
        "  user_info['last_name'] = last\n",
        "  return user_info\n",
        "\n",
        "user_profile = build_profile('albert', 'einstein',\n",
        "                             location = 'princeton',\n",
        "                             field = 'physics')\n",
        "\n",
        "print(user_profile)"
      ],
      "execution_count": null,
      "outputs": [
        {
          "output_type": "stream",
          "text": [
            "{'location': 'princeton', 'field': 'physics', 'first_name': 'albert', 'last_name': 'einstein'}\n"
          ],
          "name": "stdout"
        }
      ]
    },
    {
      "cell_type": "code",
      "metadata": {
        "colab": {
          "base_uri": "https://localhost:8080/"
        },
        "id": "EGnP8uzofAfN",
        "outputId": "65fa9b95-ccef-422d-e044-09ba21c58166"
      },
      "source": [
        "# Write a function that accepts a list of items a person wants on a sandwich.\n",
        "def sandwich_list(*sandwiches):\n",
        "  \"\"\"A list of items a person wants on a sandwich\"\"\"\n",
        "  print(\"\\nBelow is a list of items a person wants in a sandwich:\")\n",
        "  for sandwich in sandwiches:\n",
        "    print(f\"{sandwich}\")\n",
        "\n",
        "sandwich_list('cheese', 'onion')\n",
        "sandwich_list('mushrooms', 'pepper', 'garlic')\n"
      ],
      "execution_count": null,
      "outputs": [
        {
          "output_type": "stream",
          "text": [
            "\n",
            "Below is a list of items a person wants in a sandwich:\n",
            "cheese\n",
            "onion\n",
            "\n",
            "Below is a list of items a person wants in a sandwich:\n",
            "mushrooms\n",
            "pepper\n",
            "garlic\n"
          ],
          "name": "stdout"
        }
      ]
    },
    {
      "cell_type": "code",
      "metadata": {
        "colab": {
          "base_uri": "https://localhost:8080/"
        },
        "id": "-auGAvVHtG9x",
        "outputId": "3ffd3e71-cb51-430e-c000-715d19fd0c2d"
      },
      "source": [
        "def build_profile_2(first, last, **user_info):\n",
        "  \"\"\"Information about a particular user.\"\"\"\n",
        "  print(\"\\nuser_profile_2 = \")\n",
        "  user_info['first_name'] = first\n",
        "  user_info['last_name'] = last\n",
        "  return user_info\n",
        "\n",
        "user_profile_2 = build_profile_2('celline', 'dion',\n",
        "                               location = 'canada',\n",
        "                               height = '1.71 metres')\n",
        "\n",
        "print(user_profile_2)\n",
        "\n"
      ],
      "execution_count": null,
      "outputs": [
        {
          "output_type": "stream",
          "text": [
            "\n",
            "user_profile_2 = \n",
            "{'location': 'canada', 'height': '1.71 metres', 'first_name': 'celline', 'last_name': 'dion'}\n"
          ],
          "name": "stdout"
        }
      ]
    },
    {
      "cell_type": "code",
      "metadata": {
        "colab": {
          "base_uri": "https://localhost:8080/"
        },
        "id": "Uw_SugV10_-T",
        "outputId": "9945f342-965b-4f03-88bf-fd5cfb2bae87"
      },
      "source": [
        "# Write a function that stores information about a car in a dictionary\n",
        "\n",
        "def car_info(manufacturer, model, **car_details):\n",
        "  \"\"\"Store information about a car in a dictionary.\"\"\"\n",
        "  print(\"car_details =\")\n",
        "  car_details['manufacturer_name'] = manufacturer\n",
        "  car_details['model_type'] = model\n",
        "  return car_details\n",
        "\n",
        "car_profile = car_info('porsche', '2005 Porsche Cayenne Turbo',\n",
        "                         color = 'white',\n",
        "                         price = '$123,000')\n",
        "  \n",
        "print(car_profile)\n"
      ],
      "execution_count": null,
      "outputs": [
        {
          "output_type": "stream",
          "text": [
            "car_details =\n",
            "{'color': 'white', 'price': '$123,000', 'manufacturer_name': 'porsche', 'model_type': '2005 Porsche Cayenne Turbo'}\n"
          ],
          "name": "stdout"
        }
      ]
    }
  ]
}